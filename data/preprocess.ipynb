{
 "metadata": {
  "language_info": {
   "codemirror_mode": {
    "name": "ipython",
    "version": 3
   },
   "file_extension": ".py",
   "mimetype": "text/x-python",
   "name": "python",
   "nbconvert_exporter": "python",
   "pygments_lexer": "ipython3",
   "version": "3.7.10"
  },
  "orig_nbformat": 2,
  "kernelspec": {
   "name": "python3710jvsc74a57bd09c7f61cd7af8a91025d9808f8ebc6c0f0cafdddc4c9ffe8ba00f0e1268577df3",
   "display_name": "Python 3.7.10 64-bit ('rec': conda)"
  }
 },
 "nbformat": 4,
 "nbformat_minor": 2,
 "cells": [
  {
   "cell_type": "code",
   "execution_count": 1,
   "metadata": {},
   "outputs": [],
   "source": [
    "import numpy as np\n",
    "import pandas as pd\n",
    "pd.set_option('max_rows', 100)\n",
    "pd.set_option('max_columns', 100)\n",
    "import matplotlib.pyplot as plt\n",
    "from tqdm import tqdm"
   ]
  },
  {
   "cell_type": "code",
   "execution_count": 2,
   "metadata": {},
   "outputs": [],
   "source": [
    "feed = pd.read_csv('feed_info.csv')\n",
    "#feed_em = pd.read_csv('feed_embeddings.csv')\n",
    "#submit = pd.read_csv('submit_demo_初赛a.csv')\n",
    "test = pd.read_csv('test_a.csv')\n",
    "action = pd.read_csv('user_action.csv')"
   ]
  },
  {
   "source": [
    "# 构造特征与特征预处理\n",
    "要用的已有特征: user_id, item_id, author_id, item_duration, device\n",
    "\n",
    "构造统计特征: 统计用户和物品的评论数, 点赞数, 点击头像数, 转发数, 评论数, 关注数, 收藏数. {user, item}_{read, avatar, favor, forward, comment, follow, like}"
   ],
   "cell_type": "markdown",
   "metadata": {}
  },
  {
   "source": [
    "## 重建id特征\n",
    "把0空出来"
   ],
   "cell_type": "markdown",
   "metadata": {}
  },
  {
   "cell_type": "code",
   "execution_count": 3,
   "metadata": {},
   "outputs": [],
   "source": [
    "user_id = action[['userid']].drop_duplicates()\n",
    "user_id['user_id'] = np.arange(user_id.shape[0]) + 1\n",
    "item_id = feed[['feedid']].drop_duplicates()\n",
    "item_id['item_id'] = np.arange(item_id.shape[0]) + 1\n",
    "feed = feed.merge(item_id, on='feedid')\n",
    "action = action.merge(item_id, on='feedid')\n",
    "action = action.merge(user_id, on='userid')\n",
    "test = test.merge(item_id, on='feedid')\n",
    "test = test.merge(user_id, on='userid')"
   ]
  },
  {
   "source": [
    "## 构造item特征\n",
    "- item_id, author_id, item_duration, 统计特征"
   ],
   "cell_type": "markdown",
   "metadata": {}
  },
  {
   "cell_type": "code",
   "execution_count": 4,
   "metadata": {},
   "outputs": [],
   "source": [
    "item = feed[['item_id', 'authorid', 'videoplayseconds']]"
   ]
  },
  {
   "cell_type": "code",
   "execution_count": 5,
   "metadata": {},
   "outputs": [],
   "source": [
    "statis_feat = ['read_comment', 'comment', 'like', 'click_avatar', 'forward', 'follow', 'favorite']"
   ]
  },
  {
   "cell_type": "code",
   "execution_count": 6,
   "metadata": {},
   "outputs": [],
   "source": [
    "item_statis = action.groupby('item_id').agg({'read_comment': 'sum', 'comment': 'sum', 'like': 'sum', 'click_avatar': 'sum', 'forward': 'sum', 'follow': 'sum', 'favorite': 'sum'}).reset_index()"
   ]
  },
  {
   "cell_type": "code",
   "execution_count": 7,
   "metadata": {},
   "outputs": [
    {
     "output_type": "execute_result",
     "data": {
      "text/plain": [
       "item_id             False\n",
       "authorid            False\n",
       "videoplayseconds    False\n",
       "read_comment        False\n",
       "comment             False\n",
       "like                False\n",
       "click_avatar        False\n",
       "forward             False\n",
       "follow              False\n",
       "favorite            False\n",
       "dtype: bool"
      ]
     },
     "metadata": {},
     "execution_count": 7
    }
   ],
   "source": [
    "item = pd.merge(item, item_statis, on='item_id', how='left')\n",
    "item.fillna(0, inplace=True)  # 没有交互的视频统计特征均为0\n",
    "item.isnull().any()"
   ]
  },
  {
   "cell_type": "code",
   "execution_count": 8,
   "metadata": {},
   "outputs": [],
   "source": [
    "item.rename(columns={'read_comment': 'item_read', 'comment': 'item_comment', 'like': 'item_like', 'click_avatar': 'item_avatar', 'forward': 'item_forward', 'follow': 'item_follow', 'favorite': 'item_favor'}, inplace=True)"
   ]
  },
  {
   "source": [
    "## 构造user特征\n",
    "- user_id, 统计特征"
   ],
   "cell_type": "markdown",
   "metadata": {}
  },
  {
   "cell_type": "code",
   "execution_count": 9,
   "metadata": {},
   "outputs": [
    {
     "output_type": "execute_result",
     "data": {
      "text/plain": [
       "user_id         False\n",
       "read_comment    False\n",
       "comment         False\n",
       "like            False\n",
       "click_avatar    False\n",
       "forward         False\n",
       "follow          False\n",
       "favorite        False\n",
       "dtype: bool"
      ]
     },
     "metadata": {},
     "execution_count": 9
    }
   ],
   "source": [
    "user = action.groupby('user_id').agg({'read_comment': 'sum', 'comment': 'sum', 'like': 'sum', 'click_avatar': 'sum', 'forward': 'sum', 'follow': 'sum', 'favorite': 'sum'}).reset_index()\n",
    "user.isnull().any()"
   ]
  },
  {
   "cell_type": "code",
   "execution_count": 10,
   "metadata": {},
   "outputs": [],
   "source": [
    "user.rename(columns={'read_comment': 'user_read', 'comment': 'user_comment', 'like': 'user_like', 'click_avatar': 'user_avatar', 'forward': 'user_forward', 'follow': 'user_follow', 'favorite': 'user_favor'}, inplace=True)"
   ]
  },
  {
   "source": [
    "# 数据划分\n",
    "将数据划分为训练集和验证集\n",
    "\n",
    "把1-13天的数据作为训练集, 把第14天的数据作为验证集"
   ],
   "cell_type": "markdown",
   "metadata": {}
  },
  {
   "cell_type": "code",
   "execution_count": 11,
   "metadata": {},
   "outputs": [],
   "source": [
    "# 划分数据集\n",
    "train = action.loc[action['date_']<14]\n",
    "validation = action.loc[action['date_']==14]\n",
    "# 修改列名\n",
    "train = train[['user_id', 'item_id', 'device', 'read_comment', 'like', 'click_avatar', 'forward']]\n",
    "validation = validation[['user_id', 'item_id', 'device', 'read_comment', 'like', 'click_avatar', 'forward']]"
   ]
  },
  {
   "cell_type": "code",
   "execution_count": 12,
   "metadata": {},
   "outputs": [
    {
     "output_type": "execute_result",
     "data": {
      "text/plain": [
       "((6708846, 7), (609036, 7))"
      ]
     },
     "metadata": {},
     "execution_count": 12
    }
   ],
   "source": [
    "train.shape, validation.shape"
   ]
  },
  {
   "source": [
    "# 数据存储"
   ],
   "cell_type": "markdown",
   "metadata": {}
  },
  {
   "cell_type": "code",
   "execution_count": 13,
   "metadata": {},
   "outputs": [],
   "source": [
    "# 合并特征\n",
    "train = pd.merge(train, user, on='user_id', how='left')\n",
    "train = pd.merge(train, item, on='item_id', how='left')\n",
    "validation = pd.merge(validation, user, on='user_id', how='left')\n",
    "validation = pd.merge(validation, item, on='item_id', how='left')"
   ]
  },
  {
   "cell_type": "code",
   "execution_count": 14,
   "metadata": {},
   "outputs": [],
   "source": [
    "test = test[['user_id', 'item_id', 'device']]\n",
    "test = pd.merge(test, user, on='user_id', how='left')\n",
    "test = pd.merge(test, item, on='item_id', how='left')"
   ]
  },
  {
   "cell_type": "code",
   "execution_count": 15,
   "metadata": {},
   "outputs": [],
   "source": [
    "import pickle\n",
    "with open('train.pkl', 'wb') as f:\n",
    "    pickle.dump(train, f)\n",
    "with open('test.pkl', 'wb') as f:\n",
    "    pickle.dump(test, f)\n",
    "with open('validation.pkl', 'wb') as f:\n",
    "    pickle.dump(validation, f)"
   ]
  },
  {
   "cell_type": "code",
   "execution_count": 16,
   "metadata": {},
   "outputs": [
    {
     "output_type": "execute_result",
     "data": {
      "text/plain": [
       "(20000, 1, (20000, 8))"
      ]
     },
     "metadata": {},
     "execution_count": 16
    }
   ],
   "source": [
    "user['user_id'].max(), user['user_id'].min(), user.shape"
   ]
  },
  {
   "cell_type": "code",
   "execution_count": 17,
   "metadata": {},
   "outputs": [
    {
     "output_type": "execute_result",
     "data": {
      "text/plain": [
       "(106444, 1, (106444, 10))"
      ]
     },
     "metadata": {},
     "execution_count": 17
    }
   ],
   "source": [
    "item['item_id'].max(), item['item_id'].min(), item.shape"
   ]
  },
  {
   "cell_type": "code",
   "execution_count": null,
   "metadata": {},
   "outputs": [],
   "source": []
  },
  {
   "cell_type": "code",
   "execution_count": null,
   "metadata": {},
   "outputs": [],
   "source": []
  }
 ]
}