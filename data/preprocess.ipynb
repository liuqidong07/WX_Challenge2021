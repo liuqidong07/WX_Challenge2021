{
 "metadata": {
  "language_info": {
   "codemirror_mode": {
    "name": "ipython",
    "version": 3
   },
   "file_extension": ".py",
   "mimetype": "text/x-python",
   "name": "python",
   "nbconvert_exporter": "python",
   "pygments_lexer": "ipython3",
   "version": "3.7.10"
  },
  "orig_nbformat": 2,
  "kernelspec": {
   "name": "python3710jvsc74a57bd09c7f61cd7af8a91025d9808f8ebc6c0f0cafdddc4c9ffe8ba00f0e1268577df3",
   "display_name": "Python 3.7.10 64-bit ('rec': conda)"
  }
 },
 "nbformat": 4,
 "nbformat_minor": 2,
 "cells": [
  {
   "cell_type": "code",
   "execution_count": 75,
   "metadata": {},
   "outputs": [],
   "source": [
    "import numpy as np\n",
    "import pandas as pd\n",
    "pd.set_option('max_rows', 100)\n",
    "pd.set_option('max_columns', 100)\n",
    "import matplotlib.pyplot as plt\n",
    "from tqdm import tqdm"
   ]
  },
  {
   "cell_type": "code",
   "execution_count": 76,
   "metadata": {},
   "outputs": [],
   "source": [
    "feed = pd.read_csv('feed_info.csv')\n",
    "#feed_em = pd.read_csv('feed_embeddings.csv')\n",
    "#submit = pd.read_csv('submit_demo_初赛a.csv')\n",
    "test = pd.read_csv('test_a.csv')\n",
    "action = pd.read_csv('user_action.csv')"
   ]
  },
  {
   "source": [
    "# 构造特征与特征预处理\n",
    "要用的已有特征: user_id, item_id, author_id, item_duration, device\n",
    "\n",
    "构造统计特征: 统计用户和物品的评论数, 点赞数, 点击头像数, 转发数, 评论数, 关注数, 收藏数. {user, item}_{read, avatar, favor, forward, comment, follow, like}"
   ],
   "cell_type": "markdown",
   "metadata": {}
  },
  {
   "source": [
    "## 重建id特征\n",
    "把0空出来"
   ],
   "cell_type": "markdown",
   "metadata": {}
  },
  {
   "cell_type": "code",
   "execution_count": 77,
   "metadata": {},
   "outputs": [],
   "source": [
    "user_id = action[['userid']].drop_duplicates()\n",
    "user_id['user_id'] = np.arange(user_id.shape[0]) + 1\n",
    "item_id = feed[['feedid']].drop_duplicates()\n",
    "item_id['item_id'] = np.arange(item_id.shape[0]) + 1\n",
    "feed = feed.merge(item_id, on='feedid')\n",
    "action = action.merge(item_id, on='feedid')\n",
    "action = action.merge(user_id, on='userid')\n",
    "test = test.merge(item_id, on='feedid')\n",
    "test = test.merge(user_id, on='userid')"
   ]
  },
  {
   "source": [
    "## 构造item特征\n",
    "- item_id, author_id, item_duration, 统计特征\n",
    "- bgm_song_id和bgm_singer_id补全缺失"
   ],
   "cell_type": "markdown",
   "metadata": {}
  },
  {
   "cell_type": "code",
   "execution_count": 78,
   "metadata": {},
   "outputs": [],
   "source": [
    "item = feed[['item_id', 'authorid', 'videoplayseconds', 'bgm_song_id', 'bgm_singer_id']]"
   ]
  },
  {
   "cell_type": "code",
   "execution_count": 79,
   "metadata": {},
   "outputs": [
    {
     "output_type": "stream",
     "name": "stderr",
     "text": [
      "/opt/conda/envs/rec/lib/python3.7/site-packages/ipykernel_launcher.py:2: SettingWithCopyWarning: \nA value is trying to be set on a copy of a slice from a DataFrame.\nTry using .loc[row_indexer,col_indexer] = value instead\n\nSee the caveats in the documentation: https://pandas.pydata.org/pandas-docs/stable/user_guide/indexing.html#returning-a-view-versus-a-copy\n  \n/opt/conda/envs/rec/lib/python3.7/site-packages/ipykernel_launcher.py:3: SettingWithCopyWarning: \nA value is trying to be set on a copy of a slice from a DataFrame.\nTry using .loc[row_indexer,col_indexer] = value instead\n\nSee the caveats in the documentation: https://pandas.pydata.org/pandas-docs/stable/user_guide/indexing.html#returning-a-view-versus-a-copy\n  This is separate from the ipykernel package so we can avoid doing imports until\n/opt/conda/envs/rec/lib/python3.7/site-packages/pandas/core/series.py:4469: SettingWithCopyWarning: \nA value is trying to be set on a copy of a slice from a DataFrame\n\nSee the caveats in the documentation: https://pandas.pydata.org/pandas-docs/stable/user_guide/indexing.html#returning-a-view-versus-a-copy\n  downcast=downcast,\n"
     ]
    }
   ],
   "source": [
    "# 这两个类别特征先加1, 然后缺失为类别0\n",
    "item['bgm_song_id'] = item['bgm_song_id'] + 1\n",
    "item['bgm_singer_id'] = item['bgm_singer_id'] + 1\n",
    "item['bgm_song_id'].fillna(0, inplace=True)\n",
    "item['bgm_singer_id'].fillna(0, inplace=True)"
   ]
  },
  {
   "cell_type": "code",
   "execution_count": 80,
   "metadata": {},
   "outputs": [],
   "source": [
    "statis_feat = ['read_comment', 'comment', 'like', 'click_avatar', 'forward', 'follow', 'favorite']"
   ]
  },
  {
   "cell_type": "code",
   "execution_count": 81,
   "metadata": {},
   "outputs": [],
   "source": [
    "item_statis = action.groupby('item_id').agg({'read_comment': 'sum', 'comment': 'sum', 'like': 'sum', 'click_avatar': 'sum', 'forward': 'sum', 'follow': 'sum', 'favorite': 'sum'}).reset_index()"
   ]
  },
  {
   "cell_type": "code",
   "execution_count": 82,
   "metadata": {},
   "outputs": [
    {
     "output_type": "execute_result",
     "data": {
      "text/plain": [
       "item_id             False\n",
       "authorid            False\n",
       "videoplayseconds    False\n",
       "bgm_song_id         False\n",
       "bgm_singer_id       False\n",
       "read_comment        False\n",
       "comment             False\n",
       "like                False\n",
       "click_avatar        False\n",
       "forward             False\n",
       "follow              False\n",
       "favorite            False\n",
       "dtype: bool"
      ]
     },
     "metadata": {},
     "execution_count": 82
    }
   ],
   "source": [
    "item = pd.merge(item, item_statis, on='item_id', how='left')\n",
    "item.fillna(0, inplace=True)  # 没有交互的视频统计特征均为0\n",
    "item.isnull().any()"
   ]
  },
  {
   "cell_type": "code",
   "execution_count": 83,
   "metadata": {},
   "outputs": [],
   "source": [
    "item.rename(columns={'read_comment': 'item_read', 'comment': 'item_comment', 'like': 'item_like', 'click_avatar': 'item_avatar', 'forward': 'item_forward', 'follow': 'item_follow', 'favorite': 'item_favor', 'bgm_song_id': 'item_song', 'bgm_singer_id': 'item_singer', 'authorid': 'author_id'}, inplace=True)"
   ]
  },
  {
   "source": [
    "## 构造user特征\n",
    "- user_id, 统计特征"
   ],
   "cell_type": "markdown",
   "metadata": {}
  },
  {
   "cell_type": "code",
   "execution_count": 84,
   "metadata": {},
   "outputs": [
    {
     "output_type": "execute_result",
     "data": {
      "text/plain": [
       "user_id         False\n",
       "read_comment    False\n",
       "comment         False\n",
       "like            False\n",
       "click_avatar    False\n",
       "forward         False\n",
       "follow          False\n",
       "favorite        False\n",
       "dtype: bool"
      ]
     },
     "metadata": {},
     "execution_count": 84
    }
   ],
   "source": [
    "user = action.groupby('user_id').agg({'read_comment': 'sum', 'comment': 'sum', 'like': 'sum', 'click_avatar': 'sum', 'forward': 'sum', 'follow': 'sum', 'favorite': 'sum'}).reset_index()\n",
    "user.isnull().any()"
   ]
  },
  {
   "cell_type": "code",
   "execution_count": 85,
   "metadata": {},
   "outputs": [],
   "source": [
    "user.rename(columns={'read_comment': 'user_read', 'comment': 'user_comment', 'like': 'user_like', 'click_avatar': 'user_avatar', 'forward': 'user_forward', 'follow': 'user_follow', 'favorite': 'user_favor'}, inplace=True)"
   ]
  },
  {
   "source": [
    "# 数据划分\n",
    "将数据划分为训练集和验证集\n",
    "\n",
    "把1-13天的数据作为训练集, 把第14天的数据作为验证集"
   ],
   "cell_type": "markdown",
   "metadata": {}
  },
  {
   "cell_type": "code",
   "execution_count": 86,
   "metadata": {},
   "outputs": [],
   "source": [
    "# 划分数据集\n",
    "#train = action.loc[action['date_']<14]\n",
    "#validation = action.loc[action['date_']==14]\n",
    "# 修改列名\n",
    "#train = train[['user_id', 'item_id', 'device', 'read_comment', 'like', 'click_avatar', 'forward']]\n",
    "#validation = validation[['user_id', 'item_id', 'device', 'read_comment', 'like', 'click_avatar', 'forward']]"
   ]
  },
  {
   "cell_type": "code",
   "execution_count": 87,
   "metadata": {},
   "outputs": [],
   "source": [
    "#train.shape, validation.shape"
   ]
  },
  {
   "source": [
    "# 数据存储"
   ],
   "cell_type": "markdown",
   "metadata": {}
  },
  {
   "cell_type": "code",
   "execution_count": 88,
   "metadata": {},
   "outputs": [],
   "source": [
    "# 合并特征\n",
    "#train = pd.merge(train, user, on='user_id', how='left')\n",
    "#train = pd.merge(train, item, on='item_id', how='left')\n",
    "#validation = pd.merge(validation, user, on='user_id', how='left')\n",
    "#validation = pd.merge(validation, item, on='item_id', how='left')"
   ]
  },
  {
   "cell_type": "code",
   "execution_count": 89,
   "metadata": {},
   "outputs": [],
   "source": [
    "# 修改列名\n",
    "action = action[['user_id', 'date_', 'item_id', 'device', 'read_comment', 'like', 'click_avatar', 'forward']]\n",
    "# 合并特征\n",
    "action = pd.merge(action, user, on='user_id', how='left')\n",
    "action = pd.merge(action, item, on='item_id', how='left')"
   ]
  },
  {
   "cell_type": "code",
   "execution_count": 90,
   "metadata": {},
   "outputs": [],
   "source": [
    "test = test[['user_id', 'item_id', 'device']]\n",
    "test = pd.merge(test, user, on='user_id', how='left')\n",
    "test = pd.merge(test, item, on='item_id', how='left')"
   ]
  },
  {
   "cell_type": "code",
   "execution_count": 91,
   "metadata": {},
   "outputs": [],
   "source": [
    "import pickle\n",
    "with open('train.pkl', 'wb') as f:\n",
    "    pickle.dump(action, f)\n",
    "with open('test.pkl', 'wb') as f:\n",
    "    pickle.dump(test, f)"
   ]
  },
  {
   "cell_type": "code",
   "execution_count": 109,
   "metadata": {},
   "outputs": [],
   "source": [
    "with open('transform_id.pkl', 'wb') as f:\n",
    "    pickle.dump((user_id, item_id), f)"
   ]
  },
  {
   "cell_type": "code",
   "execution_count": 92,
   "metadata": {},
   "outputs": [
    {
     "output_type": "execute_result",
     "data": {
      "text/plain": [
       "(20000, 1, (20000, 8))"
      ]
     },
     "metadata": {},
     "execution_count": 92
    }
   ],
   "source": [
    "user['user_id'].max(), user['user_id'].min(), user.shape"
   ]
  },
  {
   "cell_type": "code",
   "execution_count": 93,
   "metadata": {},
   "outputs": [
    {
     "output_type": "execute_result",
     "data": {
      "text/plain": [
       "(106444, 1, (106444, 12))"
      ]
     },
     "metadata": {},
     "execution_count": 93
    }
   ],
   "source": [
    "item['item_id'].max(), item['item_id'].min(), item.shape"
   ]
  },
  {
   "cell_type": "code",
   "execution_count": 94,
   "metadata": {},
   "outputs": [
    {
     "output_type": "execute_result",
     "data": {
      "text/plain": [
       "   user_id  date_  item_id  device  read_comment  like  click_avatar  forward  \\\n",
       "0        1      1    31464       1             0     1             0        0   \n",
       "1        1      1    35896       1             0     0             0        0   \n",
       "2        1      1    38881       1             0     0             0        0   \n",
       "3        1      1     7666       1             0     1             0        0   \n",
       "4        1      1    20649       1             0     0             0        0   \n",
       "5        1      1    30092       1             0     0             0        0   \n",
       "6        1      1    28348       1             0     0             0        0   \n",
       "7        1      1    30493       1             0     0             0        0   \n",
       "8        1      1    40152       1             0     0             0        0   \n",
       "9        1      1    26966       1             0     0             0        0   \n",
       "\n",
       "   user_read  user_comment  user_like  user_avatar  user_forward  user_follow  \\\n",
       "0          0             0         38            0             0            0   \n",
       "1          0             0         38            0             0            0   \n",
       "2          0             0         38            0             0            0   \n",
       "3          0             0         38            0             0            0   \n",
       "4          0             0         38            0             0            0   \n",
       "5          0             0         38            0             0            0   \n",
       "6          0             0         38            0             0            0   \n",
       "7          0             0         38            0             0            0   \n",
       "8          0             0         38            0             0            0   \n",
       "9          0             0         38            0             0            0   \n",
       "\n",
       "   user_favor  author_id  videoplayseconds  item_song  item_singer  item_read  \\\n",
       "0           0       1528                11    13746.0       3557.0       29.0   \n",
       "1           0       1442                16        0.0          0.0      111.0   \n",
       "2           0       8648                31        0.0          0.0       18.0   \n",
       "3           0      11976                 6    13097.0       5013.0        8.0   \n",
       "4           0       4370                12    22216.0       7900.0        1.0   \n",
       "5           0       5607                16     9884.0       5419.0        9.0   \n",
       "6           0      13941                19    21826.0        160.0       10.0   \n",
       "7           0      12034                 8    14619.0      11953.0       19.0   \n",
       "8           0      12180                 7    14572.0      16921.0       27.0   \n",
       "9           0      13350                14     7580.0      15684.0        7.0   \n",
       "\n",
       "   item_comment  item_like  item_avatar  item_forward  item_follow  item_favor  \n",
       "0           0.0       25.0          2.0           1.0          0.0         0.0  \n",
       "1           0.0       59.0          5.0           2.0          1.0         1.0  \n",
       "2           1.0       37.0         13.0           5.0          1.0         1.0  \n",
       "3           0.0       34.0          1.0           2.0          0.0         1.0  \n",
       "4           0.0        1.0          0.0           0.0          0.0         0.0  \n",
       "5           0.0       15.0          1.0           0.0          0.0         1.0  \n",
       "6           0.0        4.0          0.0           2.0          0.0         0.0  \n",
       "7           1.0       26.0          3.0           0.0          0.0         0.0  \n",
       "8           0.0       53.0          1.0           0.0          0.0         0.0  \n",
       "9           0.0        7.0          0.0           0.0          0.0         0.0  "
      ],
      "text/html": "<div>\n<style scoped>\n    .dataframe tbody tr th:only-of-type {\n        vertical-align: middle;\n    }\n\n    .dataframe tbody tr th {\n        vertical-align: top;\n    }\n\n    .dataframe thead th {\n        text-align: right;\n    }\n</style>\n<table border=\"1\" class=\"dataframe\">\n  <thead>\n    <tr style=\"text-align: right;\">\n      <th></th>\n      <th>user_id</th>\n      <th>date_</th>\n      <th>item_id</th>\n      <th>device</th>\n      <th>read_comment</th>\n      <th>like</th>\n      <th>click_avatar</th>\n      <th>forward</th>\n      <th>user_read</th>\n      <th>user_comment</th>\n      <th>user_like</th>\n      <th>user_avatar</th>\n      <th>user_forward</th>\n      <th>user_follow</th>\n      <th>user_favor</th>\n      <th>author_id</th>\n      <th>videoplayseconds</th>\n      <th>item_song</th>\n      <th>item_singer</th>\n      <th>item_read</th>\n      <th>item_comment</th>\n      <th>item_like</th>\n      <th>item_avatar</th>\n      <th>item_forward</th>\n      <th>item_follow</th>\n      <th>item_favor</th>\n    </tr>\n  </thead>\n  <tbody>\n    <tr>\n      <th>0</th>\n      <td>1</td>\n      <td>1</td>\n      <td>31464</td>\n      <td>1</td>\n      <td>0</td>\n      <td>1</td>\n      <td>0</td>\n      <td>0</td>\n      <td>0</td>\n      <td>0</td>\n      <td>38</td>\n      <td>0</td>\n      <td>0</td>\n      <td>0</td>\n      <td>0</td>\n      <td>1528</td>\n      <td>11</td>\n      <td>13746.0</td>\n      <td>3557.0</td>\n      <td>29.0</td>\n      <td>0.0</td>\n      <td>25.0</td>\n      <td>2.0</td>\n      <td>1.0</td>\n      <td>0.0</td>\n      <td>0.0</td>\n    </tr>\n    <tr>\n      <th>1</th>\n      <td>1</td>\n      <td>1</td>\n      <td>35896</td>\n      <td>1</td>\n      <td>0</td>\n      <td>0</td>\n      <td>0</td>\n      <td>0</td>\n      <td>0</td>\n      <td>0</td>\n      <td>38</td>\n      <td>0</td>\n      <td>0</td>\n      <td>0</td>\n      <td>0</td>\n      <td>1442</td>\n      <td>16</td>\n      <td>0.0</td>\n      <td>0.0</td>\n      <td>111.0</td>\n      <td>0.0</td>\n      <td>59.0</td>\n      <td>5.0</td>\n      <td>2.0</td>\n      <td>1.0</td>\n      <td>1.0</td>\n    </tr>\n    <tr>\n      <th>2</th>\n      <td>1</td>\n      <td>1</td>\n      <td>38881</td>\n      <td>1</td>\n      <td>0</td>\n      <td>0</td>\n      <td>0</td>\n      <td>0</td>\n      <td>0</td>\n      <td>0</td>\n      <td>38</td>\n      <td>0</td>\n      <td>0</td>\n      <td>0</td>\n      <td>0</td>\n      <td>8648</td>\n      <td>31</td>\n      <td>0.0</td>\n      <td>0.0</td>\n      <td>18.0</td>\n      <td>1.0</td>\n      <td>37.0</td>\n      <td>13.0</td>\n      <td>5.0</td>\n      <td>1.0</td>\n      <td>1.0</td>\n    </tr>\n    <tr>\n      <th>3</th>\n      <td>1</td>\n      <td>1</td>\n      <td>7666</td>\n      <td>1</td>\n      <td>0</td>\n      <td>1</td>\n      <td>0</td>\n      <td>0</td>\n      <td>0</td>\n      <td>0</td>\n      <td>38</td>\n      <td>0</td>\n      <td>0</td>\n      <td>0</td>\n      <td>0</td>\n      <td>11976</td>\n      <td>6</td>\n      <td>13097.0</td>\n      <td>5013.0</td>\n      <td>8.0</td>\n      <td>0.0</td>\n      <td>34.0</td>\n      <td>1.0</td>\n      <td>2.0</td>\n      <td>0.0</td>\n      <td>1.0</td>\n    </tr>\n    <tr>\n      <th>4</th>\n      <td>1</td>\n      <td>1</td>\n      <td>20649</td>\n      <td>1</td>\n      <td>0</td>\n      <td>0</td>\n      <td>0</td>\n      <td>0</td>\n      <td>0</td>\n      <td>0</td>\n      <td>38</td>\n      <td>0</td>\n      <td>0</td>\n      <td>0</td>\n      <td>0</td>\n      <td>4370</td>\n      <td>12</td>\n      <td>22216.0</td>\n      <td>7900.0</td>\n      <td>1.0</td>\n      <td>0.0</td>\n      <td>1.0</td>\n      <td>0.0</td>\n      <td>0.0</td>\n      <td>0.0</td>\n      <td>0.0</td>\n    </tr>\n    <tr>\n      <th>5</th>\n      <td>1</td>\n      <td>1</td>\n      <td>30092</td>\n      <td>1</td>\n      <td>0</td>\n      <td>0</td>\n      <td>0</td>\n      <td>0</td>\n      <td>0</td>\n      <td>0</td>\n      <td>38</td>\n      <td>0</td>\n      <td>0</td>\n      <td>0</td>\n      <td>0</td>\n      <td>5607</td>\n      <td>16</td>\n      <td>9884.0</td>\n      <td>5419.0</td>\n      <td>9.0</td>\n      <td>0.0</td>\n      <td>15.0</td>\n      <td>1.0</td>\n      <td>0.0</td>\n      <td>0.0</td>\n      <td>1.0</td>\n    </tr>\n    <tr>\n      <th>6</th>\n      <td>1</td>\n      <td>1</td>\n      <td>28348</td>\n      <td>1</td>\n      <td>0</td>\n      <td>0</td>\n      <td>0</td>\n      <td>0</td>\n      <td>0</td>\n      <td>0</td>\n      <td>38</td>\n      <td>0</td>\n      <td>0</td>\n      <td>0</td>\n      <td>0</td>\n      <td>13941</td>\n      <td>19</td>\n      <td>21826.0</td>\n      <td>160.0</td>\n      <td>10.0</td>\n      <td>0.0</td>\n      <td>4.0</td>\n      <td>0.0</td>\n      <td>2.0</td>\n      <td>0.0</td>\n      <td>0.0</td>\n    </tr>\n    <tr>\n      <th>7</th>\n      <td>1</td>\n      <td>1</td>\n      <td>30493</td>\n      <td>1</td>\n      <td>0</td>\n      <td>0</td>\n      <td>0</td>\n      <td>0</td>\n      <td>0</td>\n      <td>0</td>\n      <td>38</td>\n      <td>0</td>\n      <td>0</td>\n      <td>0</td>\n      <td>0</td>\n      <td>12034</td>\n      <td>8</td>\n      <td>14619.0</td>\n      <td>11953.0</td>\n      <td>19.0</td>\n      <td>1.0</td>\n      <td>26.0</td>\n      <td>3.0</td>\n      <td>0.0</td>\n      <td>0.0</td>\n      <td>0.0</td>\n    </tr>\n    <tr>\n      <th>8</th>\n      <td>1</td>\n      <td>1</td>\n      <td>40152</td>\n      <td>1</td>\n      <td>0</td>\n      <td>0</td>\n      <td>0</td>\n      <td>0</td>\n      <td>0</td>\n      <td>0</td>\n      <td>38</td>\n      <td>0</td>\n      <td>0</td>\n      <td>0</td>\n      <td>0</td>\n      <td>12180</td>\n      <td>7</td>\n      <td>14572.0</td>\n      <td>16921.0</td>\n      <td>27.0</td>\n      <td>0.0</td>\n      <td>53.0</td>\n      <td>1.0</td>\n      <td>0.0</td>\n      <td>0.0</td>\n      <td>0.0</td>\n    </tr>\n    <tr>\n      <th>9</th>\n      <td>1</td>\n      <td>1</td>\n      <td>26966</td>\n      <td>1</td>\n      <td>0</td>\n      <td>0</td>\n      <td>0</td>\n      <td>0</td>\n      <td>0</td>\n      <td>0</td>\n      <td>38</td>\n      <td>0</td>\n      <td>0</td>\n      <td>0</td>\n      <td>0</td>\n      <td>13350</td>\n      <td>14</td>\n      <td>7580.0</td>\n      <td>15684.0</td>\n      <td>7.0</td>\n      <td>0.0</td>\n      <td>7.0</td>\n      <td>0.0</td>\n      <td>0.0</td>\n      <td>0.0</td>\n      <td>0.0</td>\n    </tr>\n  </tbody>\n</table>\n</div>"
     },
     "metadata": {},
     "execution_count": 94
    }
   ],
   "source": [
    "action.head(10)"
   ]
  },
  {
   "cell_type": "code",
   "execution_count": 95,
   "metadata": {},
   "outputs": [
    {
     "output_type": "execute_result",
     "data": {
      "text/plain": [
       "            user_id       item_id     item_song   item_singer     author_id\n",
       "count  7.317882e+06  7.317882e+06  7.317882e+06  7.317882e+06  7.317882e+06\n",
       "mean   9.991040e+03  5.304652e+04  6.180490e+03  4.279744e+03  9.525217e+03\n",
       "std    5.760513e+03  2.762136e+04  8.064195e+03  5.544116e+03  5.388386e+03\n",
       "min    1.000000e+00  1.000000e+00  0.000000e+00  0.000000e+00  0.000000e+00\n",
       "25%    5.012000e+03  3.398300e+04  0.000000e+00  0.000000e+00  4.878000e+03\n",
       "50%    9.977000e+03  5.352950e+04  0.000000e+00  0.000000e+00  9.759000e+03\n",
       "75%    1.498200e+04  7.537300e+04  1.233600e+04  8.339000e+03  1.411875e+04\n",
       "max    2.000000e+04  1.056520e+05  2.515900e+04  1.750000e+04  1.878800e+04"
      ],
      "text/html": "<div>\n<style scoped>\n    .dataframe tbody tr th:only-of-type {\n        vertical-align: middle;\n    }\n\n    .dataframe tbody tr th {\n        vertical-align: top;\n    }\n\n    .dataframe thead th {\n        text-align: right;\n    }\n</style>\n<table border=\"1\" class=\"dataframe\">\n  <thead>\n    <tr style=\"text-align: right;\">\n      <th></th>\n      <th>user_id</th>\n      <th>item_id</th>\n      <th>item_song</th>\n      <th>item_singer</th>\n      <th>author_id</th>\n    </tr>\n  </thead>\n  <tbody>\n    <tr>\n      <th>count</th>\n      <td>7.317882e+06</td>\n      <td>7.317882e+06</td>\n      <td>7.317882e+06</td>\n      <td>7.317882e+06</td>\n      <td>7.317882e+06</td>\n    </tr>\n    <tr>\n      <th>mean</th>\n      <td>9.991040e+03</td>\n      <td>5.304652e+04</td>\n      <td>6.180490e+03</td>\n      <td>4.279744e+03</td>\n      <td>9.525217e+03</td>\n    </tr>\n    <tr>\n      <th>std</th>\n      <td>5.760513e+03</td>\n      <td>2.762136e+04</td>\n      <td>8.064195e+03</td>\n      <td>5.544116e+03</td>\n      <td>5.388386e+03</td>\n    </tr>\n    <tr>\n      <th>min</th>\n      <td>1.000000e+00</td>\n      <td>1.000000e+00</td>\n      <td>0.000000e+00</td>\n      <td>0.000000e+00</td>\n      <td>0.000000e+00</td>\n    </tr>\n    <tr>\n      <th>25%</th>\n      <td>5.012000e+03</td>\n      <td>3.398300e+04</td>\n      <td>0.000000e+00</td>\n      <td>0.000000e+00</td>\n      <td>4.878000e+03</td>\n    </tr>\n    <tr>\n      <th>50%</th>\n      <td>9.977000e+03</td>\n      <td>5.352950e+04</td>\n      <td>0.000000e+00</td>\n      <td>0.000000e+00</td>\n      <td>9.759000e+03</td>\n    </tr>\n    <tr>\n      <th>75%</th>\n      <td>1.498200e+04</td>\n      <td>7.537300e+04</td>\n      <td>1.233600e+04</td>\n      <td>8.339000e+03</td>\n      <td>1.411875e+04</td>\n    </tr>\n    <tr>\n      <th>max</th>\n      <td>2.000000e+04</td>\n      <td>1.056520e+05</td>\n      <td>2.515900e+04</td>\n      <td>1.750000e+04</td>\n      <td>1.878800e+04</td>\n    </tr>\n  </tbody>\n</table>\n</div>"
     },
     "metadata": {},
     "execution_count": 95
    }
   ],
   "source": [
    "action[['user_id', 'item_id', 'item_song', 'item_singer', 'author_id']].describe()"
   ]
  },
  {
   "cell_type": "code",
   "execution_count": 102,
   "metadata": {},
   "outputs": [
    {
     "output_type": "execute_result",
     "data": {
      "text/plain": [
       "   user_id  item_id  read_comment      like  click_avatar   forward\n",
       "0     1171   105975  5.194001e-08  0.014037      0.254897  0.110831\n",
       "1     1171    82755  6.031253e-08  0.019095      0.362413  0.132947\n",
       "2     1171   102732  5.556144e-08  0.008973      0.224509  0.052777\n",
       "3     1171    98849  3.164365e-08  0.007370      0.238966  0.007775\n",
       "4     1171   103779  8.085978e-08  0.004795      0.105686  0.007950\n",
       "5     1171   104472  5.987388e-08  0.015198      0.199796  0.136231\n",
       "6     1171    98935  6.817029e-08  0.012764      0.269183  0.019867\n",
       "7     1171    12410  3.647946e-08  0.013571      0.591770  0.064228\n",
       "8     1171   103404  3.466941e-08  0.010396      0.293900  0.033614\n",
       "9     1171    92738  4.346478e-08  0.008370      0.132740  0.059726"
      ],
      "text/html": "<div>\n<style scoped>\n    .dataframe tbody tr th:only-of-type {\n        vertical-align: middle;\n    }\n\n    .dataframe tbody tr th {\n        vertical-align: top;\n    }\n\n    .dataframe thead th {\n        text-align: right;\n    }\n</style>\n<table border=\"1\" class=\"dataframe\">\n  <thead>\n    <tr style=\"text-align: right;\">\n      <th></th>\n      <th>user_id</th>\n      <th>item_id</th>\n      <th>read_comment</th>\n      <th>like</th>\n      <th>click_avatar</th>\n      <th>forward</th>\n    </tr>\n  </thead>\n  <tbody>\n    <tr>\n      <th>0</th>\n      <td>1171</td>\n      <td>105975</td>\n      <td>5.194001e-08</td>\n      <td>0.014037</td>\n      <td>0.254897</td>\n      <td>0.110831</td>\n    </tr>\n    <tr>\n      <th>1</th>\n      <td>1171</td>\n      <td>82755</td>\n      <td>6.031253e-08</td>\n      <td>0.019095</td>\n      <td>0.362413</td>\n      <td>0.132947</td>\n    </tr>\n    <tr>\n      <th>2</th>\n      <td>1171</td>\n      <td>102732</td>\n      <td>5.556144e-08</td>\n      <td>0.008973</td>\n      <td>0.224509</td>\n      <td>0.052777</td>\n    </tr>\n    <tr>\n      <th>3</th>\n      <td>1171</td>\n      <td>98849</td>\n      <td>3.164365e-08</td>\n      <td>0.007370</td>\n      <td>0.238966</td>\n      <td>0.007775</td>\n    </tr>\n    <tr>\n      <th>4</th>\n      <td>1171</td>\n      <td>103779</td>\n      <td>8.085978e-08</td>\n      <td>0.004795</td>\n      <td>0.105686</td>\n      <td>0.007950</td>\n    </tr>\n    <tr>\n      <th>5</th>\n      <td>1171</td>\n      <td>104472</td>\n      <td>5.987388e-08</td>\n      <td>0.015198</td>\n      <td>0.199796</td>\n      <td>0.136231</td>\n    </tr>\n    <tr>\n      <th>6</th>\n      <td>1171</td>\n      <td>98935</td>\n      <td>6.817029e-08</td>\n      <td>0.012764</td>\n      <td>0.269183</td>\n      <td>0.019867</td>\n    </tr>\n    <tr>\n      <th>7</th>\n      <td>1171</td>\n      <td>12410</td>\n      <td>3.647946e-08</td>\n      <td>0.013571</td>\n      <td>0.591770</td>\n      <td>0.064228</td>\n    </tr>\n    <tr>\n      <th>8</th>\n      <td>1171</td>\n      <td>103404</td>\n      <td>3.466941e-08</td>\n      <td>0.010396</td>\n      <td>0.293900</td>\n      <td>0.033614</td>\n    </tr>\n    <tr>\n      <th>9</th>\n      <td>1171</td>\n      <td>92738</td>\n      <td>4.346478e-08</td>\n      <td>0.008370</td>\n      <td>0.132740</td>\n      <td>0.059726</td>\n    </tr>\n  </tbody>\n</table>\n</div>"
     },
     "metadata": {},
     "execution_count": 102
    }
   ],
   "source": [
    "res = pd.read_csv(r'../submit/0527-2333.csv')\n",
    "res.drop(columns=['Unnamed: 0'], inplace=True)\n",
    "res.head(10)"
   ]
  },
  {
   "cell_type": "code",
   "execution_count": 103,
   "metadata": {},
   "outputs": [
    {
     "output_type": "execute_result",
     "data": {
      "text/plain": [
       "   userid  feedid  read_comment      like  click_avatar   forward\n",
       "0   14298   67227  5.194001e-08  0.014037      0.254897  0.110831\n",
       "1   14298   96268  6.031253e-08  0.019095      0.362413  0.132947\n",
       "2   14298   52309  5.556144e-08  0.008973      0.224509  0.052777\n",
       "3   14298   75871  3.164365e-08  0.007370      0.238966  0.007775\n",
       "4   14298   49432  8.085978e-08  0.004795      0.105686  0.007950\n",
       "5   14298   84382  5.987388e-08  0.015198      0.199796  0.136231\n",
       "6   14298   57114  6.817029e-08  0.012764      0.269183  0.019867\n",
       "7   14298   82425  3.647946e-08  0.013571      0.591770  0.064228\n",
       "8   14298   87099  3.466941e-08  0.010396      0.293900  0.033614\n",
       "9   14298   17686  4.346478e-08  0.008370      0.132740  0.059726"
      ],
      "text/html": "<div>\n<style scoped>\n    .dataframe tbody tr th:only-of-type {\n        vertical-align: middle;\n    }\n\n    .dataframe tbody tr th {\n        vertical-align: top;\n    }\n\n    .dataframe thead th {\n        text-align: right;\n    }\n</style>\n<table border=\"1\" class=\"dataframe\">\n  <thead>\n    <tr style=\"text-align: right;\">\n      <th></th>\n      <th>userid</th>\n      <th>feedid</th>\n      <th>read_comment</th>\n      <th>like</th>\n      <th>click_avatar</th>\n      <th>forward</th>\n    </tr>\n  </thead>\n  <tbody>\n    <tr>\n      <th>0</th>\n      <td>14298</td>\n      <td>67227</td>\n      <td>5.194001e-08</td>\n      <td>0.014037</td>\n      <td>0.254897</td>\n      <td>0.110831</td>\n    </tr>\n    <tr>\n      <th>1</th>\n      <td>14298</td>\n      <td>96268</td>\n      <td>6.031253e-08</td>\n      <td>0.019095</td>\n      <td>0.362413</td>\n      <td>0.132947</td>\n    </tr>\n    <tr>\n      <th>2</th>\n      <td>14298</td>\n      <td>52309</td>\n      <td>5.556144e-08</td>\n      <td>0.008973</td>\n      <td>0.224509</td>\n      <td>0.052777</td>\n    </tr>\n    <tr>\n      <th>3</th>\n      <td>14298</td>\n      <td>75871</td>\n      <td>3.164365e-08</td>\n      <td>0.007370</td>\n      <td>0.238966</td>\n      <td>0.007775</td>\n    </tr>\n    <tr>\n      <th>4</th>\n      <td>14298</td>\n      <td>49432</td>\n      <td>8.085978e-08</td>\n      <td>0.004795</td>\n      <td>0.105686</td>\n      <td>0.007950</td>\n    </tr>\n    <tr>\n      <th>5</th>\n      <td>14298</td>\n      <td>84382</td>\n      <td>5.987388e-08</td>\n      <td>0.015198</td>\n      <td>0.199796</td>\n      <td>0.136231</td>\n    </tr>\n    <tr>\n      <th>6</th>\n      <td>14298</td>\n      <td>57114</td>\n      <td>6.817029e-08</td>\n      <td>0.012764</td>\n      <td>0.269183</td>\n      <td>0.019867</td>\n    </tr>\n    <tr>\n      <th>7</th>\n      <td>14298</td>\n      <td>82425</td>\n      <td>3.647946e-08</td>\n      <td>0.013571</td>\n      <td>0.591770</td>\n      <td>0.064228</td>\n    </tr>\n    <tr>\n      <th>8</th>\n      <td>14298</td>\n      <td>87099</td>\n      <td>3.466941e-08</td>\n      <td>0.010396</td>\n      <td>0.293900</td>\n      <td>0.033614</td>\n    </tr>\n    <tr>\n      <th>9</th>\n      <td>14298</td>\n      <td>17686</td>\n      <td>4.346478e-08</td>\n      <td>0.008370</td>\n      <td>0.132740</td>\n      <td>0.059726</td>\n    </tr>\n  </tbody>\n</table>\n</div>"
     },
     "metadata": {},
     "execution_count": 103
    }
   ],
   "source": [
    "res = pd.merge(res, item_id, on='item_id', how='left')\n",
    "res = pd.merge(res, user_id, on='user_id', how='left')\n",
    "res = res[['userid', 'feedid', 'read_comment', 'like', 'click_avatar', 'forward']]\n",
    "res.head(10)"
   ]
  },
  {
   "cell_type": "code",
   "execution_count": 104,
   "metadata": {},
   "outputs": [],
   "source": [
    "res_id = list(zip(res['userid'], res['feedid']))"
   ]
  },
  {
   "cell_type": "code",
   "execution_count": 105,
   "metadata": {},
   "outputs": [],
   "source": [
    "demo = pd.read_csv(r'../submit/res.csv')\n",
    "demo_id = list(zip(demo['userid'], demo['feedid']))"
   ]
  },
  {
   "cell_type": "code",
   "execution_count": 106,
   "metadata": {},
   "outputs": [
    {
     "output_type": "execute_result",
     "data": {
      "text/plain": [
       "(421985, 421985)"
      ]
     },
     "metadata": {},
     "execution_count": 106
    }
   ],
   "source": [
    "len(set(res_id)), len(set(demo_id))"
   ]
  },
  {
   "cell_type": "code",
   "execution_count": 107,
   "metadata": {},
   "outputs": [
    {
     "output_type": "execute_result",
     "data": {
      "text/plain": [
       "0"
      ]
     },
     "metadata": {},
     "execution_count": 107
    }
   ],
   "source": [
    "len(set(res_id) - set(demo_id))"
   ]
  },
  {
   "cell_type": "code",
   "execution_count": 108,
   "metadata": {},
   "outputs": [],
   "source": [
    "res.to_csv(r'../submit/0527-2333.csv', index=False)"
   ]
  },
  {
   "cell_type": "code",
   "execution_count": null,
   "metadata": {},
   "outputs": [],
   "source": []
  }
 ]
}