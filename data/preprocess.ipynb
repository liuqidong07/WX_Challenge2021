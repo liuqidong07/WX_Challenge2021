{
 "metadata": {
  "language_info": {
   "codemirror_mode": {
    "name": "ipython",
    "version": 3
   },
   "file_extension": ".py",
   "mimetype": "text/x-python",
   "name": "python",
   "nbconvert_exporter": "python",
   "pygments_lexer": "ipython3",
   "version": "3.7.10"
  },
  "orig_nbformat": 2,
  "kernelspec": {
   "name": "python3710jvsc74a57bd09c7f61cd7af8a91025d9808f8ebc6c0f0cafdddc4c9ffe8ba00f0e1268577df3",
   "display_name": "Python 3.7.10 64-bit ('rec': conda)"
  }
 },
 "nbformat": 4,
 "nbformat_minor": 2,
 "cells": [
  {
   "cell_type": "code",
   "execution_count": 1,
   "metadata": {},
   "outputs": [],
   "source": [
    "import numpy as np\n",
    "import pandas as pd\n",
    "pd.set_option('max_rows', 100)\n",
    "pd.set_option('max_columns', 100)\n",
    "import matplotlib.pyplot as plt\n",
    "from tqdm import tqdm\n",
    "import pickle\n",
    "from sklearn.decomposition import PCA"
   ]
  },
  {
   "cell_type": "code",
   "execution_count": 2,
   "metadata": {},
   "outputs": [],
   "source": [
    "feed = pd.read_csv('feed_info.csv')\n",
    "#feed_em = pd.read_csv('feed_embeddings.csv')\n",
    "#submit = pd.read_csv('submit_demo_初赛a.csv')\n",
    "test = pd.read_csv('test_a.csv')\n",
    "action = pd.read_csv('user_action.csv')"
   ]
  },
  {
   "source": [
    "# 构造特征与特征预处理\n",
    "要用的已有特征: user_id, item_id, author_id, item_duration, device\n",
    "\n",
    "构造统计特征: 统计用户和物品的评论数, 点赞数, 点击头像数, 转发数, 评论数, 关注数, 收藏数. {user, item}_{read, avatar, favor, forward, comment, follow, like}"
   ],
   "cell_type": "markdown",
   "metadata": {}
  },
  {
   "source": [
    "## 重建id特征\n",
    "把0空出来"
   ],
   "cell_type": "markdown",
   "metadata": {}
  },
  {
   "cell_type": "code",
   "execution_count": 3,
   "metadata": {},
   "outputs": [],
   "source": [
    "user_id = action[['userid']].drop_duplicates()\n",
    "user_id['user_id'] = np.arange(user_id.shape[0]) + 1\n",
    "item_id = feed[['feedid']].drop_duplicates()\n",
    "item_id['item_id'] = np.arange(item_id.shape[0]) + 1\n",
    "feed = feed.merge(item_id, on='feedid')\n",
    "action = action.merge(item_id, on='feedid')\n",
    "action = action.merge(user_id, on='userid')\n",
    "test = test.merge(item_id, on='feedid')\n",
    "test = test.merge(user_id, on='userid')"
   ]
  },
  {
   "source": [
    "## 构造item特征\n",
    "- item_id, author_id, item_duration, 统计特征\n",
    "- bgm_song_id和bgm_singer_id补全缺失\n",
    "- item_ocr和item_id是完全相同的"
   ],
   "cell_type": "markdown",
   "metadata": {}
  },
  {
   "cell_type": "code",
   "execution_count": 4,
   "metadata": {},
   "outputs": [],
   "source": [
    "item = feed[['item_id', 'authorid', 'videoplayseconds', 'bgm_song_id', 'bgm_singer_id']]"
   ]
  },
  {
   "cell_type": "code",
   "execution_count": 5,
   "metadata": {},
   "outputs": [
    {
     "output_type": "stream",
     "name": "stderr",
     "text": [
      "ipykernel_launcher:2: SettingWithCopyWarning: \nA value is trying to be set on a copy of a slice from a DataFrame.\nTry using .loc[row_indexer,col_indexer] = value instead\n\nSee the caveats in the documentation: https://pandas.pydata.org/pandas-docs/stable/user_guide/indexing.html#returning-a-view-versus-a-copy\nipykernel_launcher:3: SettingWithCopyWarning: \nA value is trying to be set on a copy of a slice from a DataFrame.\nTry using .loc[row_indexer,col_indexer] = value instead\n\nSee the caveats in the documentation: https://pandas.pydata.org/pandas-docs/stable/user_guide/indexing.html#returning-a-view-versus-a-copy\n/opt/conda/envs/rec/lib/python3.7/site-packages/pandas/core/series.py:4469: SettingWithCopyWarning: \nA value is trying to be set on a copy of a slice from a DataFrame\n\nSee the caveats in the documentation: https://pandas.pydata.org/pandas-docs/stable/user_guide/indexing.html#returning-a-view-versus-a-copy\n  downcast=downcast,\n"
     ]
    }
   ],
   "source": [
    "# 这两个类别特征先加1, 然后缺失为类别0\n",
    "item['bgm_song_id'] = item['bgm_song_id'] + 1\n",
    "item['bgm_singer_id'] = item['bgm_singer_id'] + 1\n",
    "item['bgm_song_id'].fillna(0, inplace=True)\n",
    "item['bgm_singer_id'].fillna(0, inplace=True)"
   ]
  },
  {
   "cell_type": "code",
   "execution_count": 6,
   "metadata": {},
   "outputs": [],
   "source": [
    "statis_feat = ['read_comment', 'comment', 'like', 'click_avatar', 'forward', 'follow', 'favorite']"
   ]
  },
  {
   "cell_type": "code",
   "execution_count": 7,
   "metadata": {},
   "outputs": [],
   "source": [
    "item_statis = action.loc[action['date_']<14].groupby('item_id').agg({'read_comment': 'sum', 'comment': 'sum', 'like': 'sum', 'click_avatar': 'sum', 'forward': 'sum', 'follow': 'sum', 'favorite': 'sum'}).reset_index()"
   ]
  },
  {
   "cell_type": "code",
   "execution_count": 8,
   "metadata": {},
   "outputs": [
    {
     "output_type": "execute_result",
     "data": {
      "text/plain": [
       "item_id             False\n",
       "authorid            False\n",
       "videoplayseconds    False\n",
       "bgm_song_id         False\n",
       "bgm_singer_id       False\n",
       "read_comment        False\n",
       "comment             False\n",
       "like                False\n",
       "click_avatar        False\n",
       "forward             False\n",
       "follow              False\n",
       "favorite            False\n",
       "dtype: bool"
      ]
     },
     "metadata": {},
     "execution_count": 8
    }
   ],
   "source": [
    "item = pd.merge(item, item_statis, on='item_id', how='left')\n",
    "item.fillna(0, inplace=True)  # 没有交互的视频统计特征均为0\n",
    "item.isnull().any()"
   ]
  },
  {
   "cell_type": "code",
   "execution_count": 9,
   "metadata": {},
   "outputs": [],
   "source": [
    "item.rename(columns={'read_comment': 'item_read', 'comment': 'item_comment', 'like': 'item_like', 'click_avatar': 'item_avatar', 'forward': 'item_forward', 'follow': 'item_follow', 'favorite': 'item_favor', 'bgm_song_id': 'item_song', 'bgm_singer_id': 'item_singer', 'authorid': 'author_id', 'videoplayseconds': 'item_seconds'}, inplace=True)"
   ]
  },
  {
   "cell_type": "code",
   "execution_count": 10,
   "metadata": {},
   "outputs": [],
   "source": [
    "item['item_ocr'] = item['item_id']"
   ]
  },
  {
   "cell_type": "code",
   "execution_count": 11,
   "metadata": {},
   "outputs": [
    {
     "output_type": "execute_result",
     "data": {
      "text/plain": [
       "6275     1\n",
       "29596    1\n",
       "25931    1\n",
       "7916     1\n",
       "8963     1\n",
       "13931    1\n",
       "11068    1\n",
       "25200    1\n",
       "9649     1\n",
       "272      1\n",
       "25172    1\n",
       "10275    1\n",
       "59960    1\n",
       "10137    1\n",
       "30620    1\n",
       "Name: item_seconds, dtype: int64"
      ]
     },
     "metadata": {},
     "execution_count": 11
    }
   ],
   "source": [
    "item['item_seconds'].loc[item['item_seconds']>62].value_counts()"
   ]
  },
  {
   "cell_type": "code",
   "execution_count": 12,
   "metadata": {},
   "outputs": [
    {
     "output_type": "stream",
     "name": "stderr",
     "text": [
      "/opt/conda/envs/rec/lib/python3.7/site-packages/pandas/core/indexing.py:1637: SettingWithCopyWarning: \nA value is trying to be set on a copy of a slice from a DataFrame\n\nSee the caveats in the documentation: https://pandas.pydata.org/pandas-docs/stable/user_guide/indexing.html#returning-a-view-versus-a-copy\n  self._setitem_single_block(indexer, value, name)\n"
     ]
    }
   ],
   "source": [
    "# 由于大于62的不多, 且每一种都只有一个. 因此简单处理把62以上的都当作63\n",
    "item['item_seconds'].loc[item['item_seconds']>62] = 63"
   ]
  },
  {
   "source": [
    "## 构造user特征\n",
    "- user_id, 统计特征"
   ],
   "cell_type": "markdown",
   "metadata": {}
  },
  {
   "cell_type": "code",
   "execution_count": 13,
   "metadata": {},
   "outputs": [
    {
     "output_type": "execute_result",
     "data": {
      "text/plain": [
       "user_id         False\n",
       "read_comment    False\n",
       "comment         False\n",
       "like            False\n",
       "click_avatar    False\n",
       "forward         False\n",
       "follow          False\n",
       "favorite        False\n",
       "dtype: bool"
      ]
     },
     "metadata": {},
     "execution_count": 13
    }
   ],
   "source": [
    "user = action.loc[action['date_']<14].groupby('user_id').agg({'read_comment': 'sum', 'comment': 'sum', 'like': 'sum', 'click_avatar': 'sum', 'forward': 'sum', 'follow': 'sum', 'favorite': 'sum'}).reset_index()\n",
    "user.isnull().any()"
   ]
  },
  {
   "cell_type": "code",
   "execution_count": 14,
   "metadata": {},
   "outputs": [],
   "source": [
    "user.rename(columns={'read_comment': 'user_read', 'comment': 'user_comment', 'like': 'user_like', 'click_avatar': 'user_avatar', 'forward': 'user_forward', 'follow': 'user_follow', 'favorite': 'user_favor'}, inplace=True)"
   ]
  },
  {
   "cell_type": "code",
   "execution_count": 15,
   "metadata": {},
   "outputs": [
    {
     "output_type": "execute_result",
     "data": {
      "text/plain": [
       "            user_id     user_read  user_comment     user_like   user_avatar  \\\n",
       "count  19916.000000  19916.000000  19916.000000  19916.000000  19916.000000   \n",
       "mean    9999.824061     11.831944      0.136272      8.747891      2.540068   \n",
       "std     5773.920517     38.502302      1.617724     21.956016      5.376580   \n",
       "min        1.000000      0.000000      0.000000      0.000000      0.000000   \n",
       "25%     4999.750000      0.000000      0.000000      1.000000      0.000000   \n",
       "50%     9999.500000      0.000000      0.000000      3.000000      1.000000   \n",
       "75%    14999.250000      4.000000      0.000000      8.000000      3.000000   \n",
       "max    20000.000000    587.000000    164.000000    781.000000    229.000000   \n",
       "\n",
       "       user_forward   user_follow    user_favor  \n",
       "count  19916.000000  19916.000000  19916.000000  \n",
       "mean       1.300562      0.241916      0.459882  \n",
       "std        4.302081      1.133394      5.081880  \n",
       "min        0.000000      0.000000      0.000000  \n",
       "25%        0.000000      0.000000      0.000000  \n",
       "50%        0.000000      0.000000      0.000000  \n",
       "75%        1.000000      0.000000      0.000000  \n",
       "max      251.000000     32.000000    492.000000  "
      ],
      "text/html": "<div>\n<style scoped>\n    .dataframe tbody tr th:only-of-type {\n        vertical-align: middle;\n    }\n\n    .dataframe tbody tr th {\n        vertical-align: top;\n    }\n\n    .dataframe thead th {\n        text-align: right;\n    }\n</style>\n<table border=\"1\" class=\"dataframe\">\n  <thead>\n    <tr style=\"text-align: right;\">\n      <th></th>\n      <th>user_id</th>\n      <th>user_read</th>\n      <th>user_comment</th>\n      <th>user_like</th>\n      <th>user_avatar</th>\n      <th>user_forward</th>\n      <th>user_follow</th>\n      <th>user_favor</th>\n    </tr>\n  </thead>\n  <tbody>\n    <tr>\n      <th>count</th>\n      <td>19916.000000</td>\n      <td>19916.000000</td>\n      <td>19916.000000</td>\n      <td>19916.000000</td>\n      <td>19916.000000</td>\n      <td>19916.000000</td>\n      <td>19916.000000</td>\n      <td>19916.000000</td>\n    </tr>\n    <tr>\n      <th>mean</th>\n      <td>9999.824061</td>\n      <td>11.831944</td>\n      <td>0.136272</td>\n      <td>8.747891</td>\n      <td>2.540068</td>\n      <td>1.300562</td>\n      <td>0.241916</td>\n      <td>0.459882</td>\n    </tr>\n    <tr>\n      <th>std</th>\n      <td>5773.920517</td>\n      <td>38.502302</td>\n      <td>1.617724</td>\n      <td>21.956016</td>\n      <td>5.376580</td>\n      <td>4.302081</td>\n      <td>1.133394</td>\n      <td>5.081880</td>\n    </tr>\n    <tr>\n      <th>min</th>\n      <td>1.000000</td>\n      <td>0.000000</td>\n      <td>0.000000</td>\n      <td>0.000000</td>\n      <td>0.000000</td>\n      <td>0.000000</td>\n      <td>0.000000</td>\n      <td>0.000000</td>\n    </tr>\n    <tr>\n      <th>25%</th>\n      <td>4999.750000</td>\n      <td>0.000000</td>\n      <td>0.000000</td>\n      <td>1.000000</td>\n      <td>0.000000</td>\n      <td>0.000000</td>\n      <td>0.000000</td>\n      <td>0.000000</td>\n    </tr>\n    <tr>\n      <th>50%</th>\n      <td>9999.500000</td>\n      <td>0.000000</td>\n      <td>0.000000</td>\n      <td>3.000000</td>\n      <td>1.000000</td>\n      <td>0.000000</td>\n      <td>0.000000</td>\n      <td>0.000000</td>\n    </tr>\n    <tr>\n      <th>75%</th>\n      <td>14999.250000</td>\n      <td>4.000000</td>\n      <td>0.000000</td>\n      <td>8.000000</td>\n      <td>3.000000</td>\n      <td>1.000000</td>\n      <td>0.000000</td>\n      <td>0.000000</td>\n    </tr>\n    <tr>\n      <th>max</th>\n      <td>20000.000000</td>\n      <td>587.000000</td>\n      <td>164.000000</td>\n      <td>781.000000</td>\n      <td>229.000000</td>\n      <td>251.000000</td>\n      <td>32.000000</td>\n      <td>492.000000</td>\n    </tr>\n  </tbody>\n</table>\n</div>"
     },
     "metadata": {},
     "execution_count": 15
    }
   ],
   "source": [
    "user.describe()"
   ]
  },
  {
   "source": [
    "# 数据划分\n",
    "将数据划分为训练集和验证集\n",
    "\n",
    "把1-13天的数据作为训练集, 把第14天的数据作为验证集"
   ],
   "cell_type": "markdown",
   "metadata": {}
  },
  {
   "cell_type": "code",
   "execution_count": 16,
   "metadata": {},
   "outputs": [],
   "source": [
    "# 划分数据集\n",
    "#train = action.loc[action['date_']<14]\n",
    "#validation = action.loc[action['date_']==14]\n",
    "# 修改列名\n",
    "#train = train[['user_id', 'item_id', 'device', 'read_comment', 'like', 'click_avatar', 'forward']]\n",
    "#validation = validation[['user_id', 'item_id', 'device', 'read_comment', 'like', 'click_avatar', 'forward']]"
   ]
  },
  {
   "cell_type": "code",
   "execution_count": 17,
   "metadata": {},
   "outputs": [],
   "source": [
    "#train.shape, validation.shape"
   ]
  },
  {
   "source": [
    "# 数据存储"
   ],
   "cell_type": "markdown",
   "metadata": {}
  },
  {
   "cell_type": "code",
   "execution_count": 18,
   "metadata": {},
   "outputs": [],
   "source": [
    "# 合并特征\n",
    "#train = pd.merge(train, user, on='user_id', how='left')\n",
    "#train = pd.merge(train, item, on='item_id', how='left')\n",
    "#validation = pd.merge(validation, user, on='user_id', how='left')\n",
    "#validation = pd.merge(validation, item, on='item_id', how='left')"
   ]
  },
  {
   "cell_type": "code",
   "execution_count": 19,
   "metadata": {},
   "outputs": [],
   "source": [
    "import math\n",
    "action['play'] = action['play'].apply(lambda x: math.log(x+2))\n",
    "action['stay'] = action['stay'].apply(lambda x: math.log(x+2))"
   ]
  },
  {
   "cell_type": "code",
   "execution_count": 20,
   "metadata": {},
   "outputs": [],
   "source": [
    "# 修改列名\n",
    "action = action[['user_id', 'date_', 'item_id', 'device', 'read_comment', 'like', 'click_avatar', 'forward', 'stay', 'play']]\n",
    "# 合并特征\n",
    "action = pd.merge(action, user, on='user_id', how='left')\n",
    "action = pd.merge(action, item, on='item_id', how='left')"
   ]
  },
  {
   "cell_type": "code",
   "execution_count": 21,
   "metadata": {},
   "outputs": [],
   "source": [
    "test = test[['user_id', 'item_id', 'device']]\n",
    "test = pd.merge(test, user, on='user_id', how='left')\n",
    "test = pd.merge(test, item, on='item_id', how='left')"
   ]
  },
  {
   "cell_type": "code",
   "execution_count": 22,
   "metadata": {},
   "outputs": [],
   "source": [
    "with open('train.pkl', 'wb') as f:\n",
    "    pickle.dump(action, f)\n",
    "with open('test.pkl', 'wb') as f:\n",
    "    pickle.dump(test, f)"
   ]
  },
  {
   "cell_type": "code",
   "execution_count": 23,
   "metadata": {},
   "outputs": [],
   "source": [
    "with open('transform_id.pkl', 'wb') as f:\n",
    "    pickle.dump((user_id, item_id), f)"
   ]
  },
  {
   "cell_type": "code",
   "execution_count": 24,
   "metadata": {},
   "outputs": [
    {
     "output_type": "execute_result",
     "data": {
      "text/plain": [
       "(20000, 1, (19916, 8))"
      ]
     },
     "metadata": {},
     "execution_count": 24
    }
   ],
   "source": [
    "user['user_id'].max(), user['user_id'].min(), user.shape"
   ]
  },
  {
   "cell_type": "code",
   "execution_count": 23,
   "metadata": {},
   "outputs": [
    {
     "output_type": "execute_result",
     "data": {
      "text/plain": [
       "(106444, 1, (106444, 13))"
      ]
     },
     "metadata": {},
     "execution_count": 23
    }
   ],
   "source": [
    "item['item_id'].max(), item['item_id'].min(), item.shape"
   ]
  },
  {
   "cell_type": "code",
   "execution_count": 25,
   "metadata": {},
   "outputs": [
    {
     "output_type": "execute_result",
     "data": {
      "text/plain": [
       "   user_id  date_  item_id  device  read_comment  like  click_avatar  forward  \\\n",
       "0        1      1    31464       1             0     1             0        0   \n",
       "1        1      1    35896       1             0     0             0        0   \n",
       "2        1      1    38881       1             0     0             0        0   \n",
       "3        1      1     7666       1             0     1             0        0   \n",
       "4        1      1    20649       1             0     0             0        0   \n",
       "5        1      1    30092       1             0     0             0        0   \n",
       "6        1      1    28348       1             0     0             0        0   \n",
       "7        1      1    30493       1             0     0             0        0   \n",
       "8        1      1    40152       1             0     0             0        0   \n",
       "9        1      1    26966       1             0     0             0        0   \n",
       "\n",
       "   user_read  user_comment  user_like  user_avatar  user_forward  user_follow  \\\n",
       "0          0             0         38            0             0            0   \n",
       "1          0             0         38            0             0            0   \n",
       "2          0             0         38            0             0            0   \n",
       "3          0             0         38            0             0            0   \n",
       "4          0             0         38            0             0            0   \n",
       "5          0             0         38            0             0            0   \n",
       "6          0             0         38            0             0            0   \n",
       "7          0             0         38            0             0            0   \n",
       "8          0             0         38            0             0            0   \n",
       "9          0             0         38            0             0            0   \n",
       "\n",
       "   user_favor  author_id  item_seconds  item_song  item_singer  item_read  \\\n",
       "0           0       1528            11    13746.0       3557.0       29.0   \n",
       "1           0       1442            16        0.0          0.0      111.0   \n",
       "2           0       8648            31        0.0          0.0       18.0   \n",
       "3           0      11976             6    13097.0       5013.0        8.0   \n",
       "4           0       4370            12    22216.0       7900.0        1.0   \n",
       "5           0       5607            16     9884.0       5419.0        9.0   \n",
       "6           0      13941            19    21826.0        160.0       10.0   \n",
       "7           0      12034             8    14619.0      11953.0       19.0   \n",
       "8           0      12180             7    14572.0      16921.0       27.0   \n",
       "9           0      13350            14     7580.0      15684.0        7.0   \n",
       "\n",
       "   item_comment  item_like  item_avatar  item_forward  item_follow  \\\n",
       "0           0.0       25.0          2.0           1.0          0.0   \n",
       "1           0.0       59.0          5.0           2.0          1.0   \n",
       "2           1.0       37.0         13.0           5.0          1.0   \n",
       "3           0.0       34.0          1.0           2.0          0.0   \n",
       "4           0.0        1.0          0.0           0.0          0.0   \n",
       "5           0.0       15.0          1.0           0.0          0.0   \n",
       "6           0.0        4.0          0.0           2.0          0.0   \n",
       "7           1.0       26.0          3.0           0.0          0.0   \n",
       "8           0.0       53.0          1.0           0.0          0.0   \n",
       "9           0.0        7.0          0.0           0.0          0.0   \n",
       "\n",
       "   item_favor  item_ocr  \n",
       "0         0.0     31464  \n",
       "1         1.0     35896  \n",
       "2         1.0     38881  \n",
       "3         1.0      7666  \n",
       "4         0.0     20649  \n",
       "5         1.0     30092  \n",
       "6         0.0     28348  \n",
       "7         0.0     30493  \n",
       "8         0.0     40152  \n",
       "9         0.0     26966  "
      ],
      "text/html": "<div>\n<style scoped>\n    .dataframe tbody tr th:only-of-type {\n        vertical-align: middle;\n    }\n\n    .dataframe tbody tr th {\n        vertical-align: top;\n    }\n\n    .dataframe thead th {\n        text-align: right;\n    }\n</style>\n<table border=\"1\" class=\"dataframe\">\n  <thead>\n    <tr style=\"text-align: right;\">\n      <th></th>\n      <th>user_id</th>\n      <th>date_</th>\n      <th>item_id</th>\n      <th>device</th>\n      <th>read_comment</th>\n      <th>like</th>\n      <th>click_avatar</th>\n      <th>forward</th>\n      <th>user_read</th>\n      <th>user_comment</th>\n      <th>user_like</th>\n      <th>user_avatar</th>\n      <th>user_forward</th>\n      <th>user_follow</th>\n      <th>user_favor</th>\n      <th>author_id</th>\n      <th>item_seconds</th>\n      <th>item_song</th>\n      <th>item_singer</th>\n      <th>item_read</th>\n      <th>item_comment</th>\n      <th>item_like</th>\n      <th>item_avatar</th>\n      <th>item_forward</th>\n      <th>item_follow</th>\n      <th>item_favor</th>\n      <th>item_ocr</th>\n    </tr>\n  </thead>\n  <tbody>\n    <tr>\n      <th>0</th>\n      <td>1</td>\n      <td>1</td>\n      <td>31464</td>\n      <td>1</td>\n      <td>0</td>\n      <td>1</td>\n      <td>0</td>\n      <td>0</td>\n      <td>0</td>\n      <td>0</td>\n      <td>38</td>\n      <td>0</td>\n      <td>0</td>\n      <td>0</td>\n      <td>0</td>\n      <td>1528</td>\n      <td>11</td>\n      <td>13746.0</td>\n      <td>3557.0</td>\n      <td>29.0</td>\n      <td>0.0</td>\n      <td>25.0</td>\n      <td>2.0</td>\n      <td>1.0</td>\n      <td>0.0</td>\n      <td>0.0</td>\n      <td>31464</td>\n    </tr>\n    <tr>\n      <th>1</th>\n      <td>1</td>\n      <td>1</td>\n      <td>35896</td>\n      <td>1</td>\n      <td>0</td>\n      <td>0</td>\n      <td>0</td>\n      <td>0</td>\n      <td>0</td>\n      <td>0</td>\n      <td>38</td>\n      <td>0</td>\n      <td>0</td>\n      <td>0</td>\n      <td>0</td>\n      <td>1442</td>\n      <td>16</td>\n      <td>0.0</td>\n      <td>0.0</td>\n      <td>111.0</td>\n      <td>0.0</td>\n      <td>59.0</td>\n      <td>5.0</td>\n      <td>2.0</td>\n      <td>1.0</td>\n      <td>1.0</td>\n      <td>35896</td>\n    </tr>\n    <tr>\n      <th>2</th>\n      <td>1</td>\n      <td>1</td>\n      <td>38881</td>\n      <td>1</td>\n      <td>0</td>\n      <td>0</td>\n      <td>0</td>\n      <td>0</td>\n      <td>0</td>\n      <td>0</td>\n      <td>38</td>\n      <td>0</td>\n      <td>0</td>\n      <td>0</td>\n      <td>0</td>\n      <td>8648</td>\n      <td>31</td>\n      <td>0.0</td>\n      <td>0.0</td>\n      <td>18.0</td>\n      <td>1.0</td>\n      <td>37.0</td>\n      <td>13.0</td>\n      <td>5.0</td>\n      <td>1.0</td>\n      <td>1.0</td>\n      <td>38881</td>\n    </tr>\n    <tr>\n      <th>3</th>\n      <td>1</td>\n      <td>1</td>\n      <td>7666</td>\n      <td>1</td>\n      <td>0</td>\n      <td>1</td>\n      <td>0</td>\n      <td>0</td>\n      <td>0</td>\n      <td>0</td>\n      <td>38</td>\n      <td>0</td>\n      <td>0</td>\n      <td>0</td>\n      <td>0</td>\n      <td>11976</td>\n      <td>6</td>\n      <td>13097.0</td>\n      <td>5013.0</td>\n      <td>8.0</td>\n      <td>0.0</td>\n      <td>34.0</td>\n      <td>1.0</td>\n      <td>2.0</td>\n      <td>0.0</td>\n      <td>1.0</td>\n      <td>7666</td>\n    </tr>\n    <tr>\n      <th>4</th>\n      <td>1</td>\n      <td>1</td>\n      <td>20649</td>\n      <td>1</td>\n      <td>0</td>\n      <td>0</td>\n      <td>0</td>\n      <td>0</td>\n      <td>0</td>\n      <td>0</td>\n      <td>38</td>\n      <td>0</td>\n      <td>0</td>\n      <td>0</td>\n      <td>0</td>\n      <td>4370</td>\n      <td>12</td>\n      <td>22216.0</td>\n      <td>7900.0</td>\n      <td>1.0</td>\n      <td>0.0</td>\n      <td>1.0</td>\n      <td>0.0</td>\n      <td>0.0</td>\n      <td>0.0</td>\n      <td>0.0</td>\n      <td>20649</td>\n    </tr>\n    <tr>\n      <th>5</th>\n      <td>1</td>\n      <td>1</td>\n      <td>30092</td>\n      <td>1</td>\n      <td>0</td>\n      <td>0</td>\n      <td>0</td>\n      <td>0</td>\n      <td>0</td>\n      <td>0</td>\n      <td>38</td>\n      <td>0</td>\n      <td>0</td>\n      <td>0</td>\n      <td>0</td>\n      <td>5607</td>\n      <td>16</td>\n      <td>9884.0</td>\n      <td>5419.0</td>\n      <td>9.0</td>\n      <td>0.0</td>\n      <td>15.0</td>\n      <td>1.0</td>\n      <td>0.0</td>\n      <td>0.0</td>\n      <td>1.0</td>\n      <td>30092</td>\n    </tr>\n    <tr>\n      <th>6</th>\n      <td>1</td>\n      <td>1</td>\n      <td>28348</td>\n      <td>1</td>\n      <td>0</td>\n      <td>0</td>\n      <td>0</td>\n      <td>0</td>\n      <td>0</td>\n      <td>0</td>\n      <td>38</td>\n      <td>0</td>\n      <td>0</td>\n      <td>0</td>\n      <td>0</td>\n      <td>13941</td>\n      <td>19</td>\n      <td>21826.0</td>\n      <td>160.0</td>\n      <td>10.0</td>\n      <td>0.0</td>\n      <td>4.0</td>\n      <td>0.0</td>\n      <td>2.0</td>\n      <td>0.0</td>\n      <td>0.0</td>\n      <td>28348</td>\n    </tr>\n    <tr>\n      <th>7</th>\n      <td>1</td>\n      <td>1</td>\n      <td>30493</td>\n      <td>1</td>\n      <td>0</td>\n      <td>0</td>\n      <td>0</td>\n      <td>0</td>\n      <td>0</td>\n      <td>0</td>\n      <td>38</td>\n      <td>0</td>\n      <td>0</td>\n      <td>0</td>\n      <td>0</td>\n      <td>12034</td>\n      <td>8</td>\n      <td>14619.0</td>\n      <td>11953.0</td>\n      <td>19.0</td>\n      <td>1.0</td>\n      <td>26.0</td>\n      <td>3.0</td>\n      <td>0.0</td>\n      <td>0.0</td>\n      <td>0.0</td>\n      <td>30493</td>\n    </tr>\n    <tr>\n      <th>8</th>\n      <td>1</td>\n      <td>1</td>\n      <td>40152</td>\n      <td>1</td>\n      <td>0</td>\n      <td>0</td>\n      <td>0</td>\n      <td>0</td>\n      <td>0</td>\n      <td>0</td>\n      <td>38</td>\n      <td>0</td>\n      <td>0</td>\n      <td>0</td>\n      <td>0</td>\n      <td>12180</td>\n      <td>7</td>\n      <td>14572.0</td>\n      <td>16921.0</td>\n      <td>27.0</td>\n      <td>0.0</td>\n      <td>53.0</td>\n      <td>1.0</td>\n      <td>0.0</td>\n      <td>0.0</td>\n      <td>0.0</td>\n      <td>40152</td>\n    </tr>\n    <tr>\n      <th>9</th>\n      <td>1</td>\n      <td>1</td>\n      <td>26966</td>\n      <td>1</td>\n      <td>0</td>\n      <td>0</td>\n      <td>0</td>\n      <td>0</td>\n      <td>0</td>\n      <td>0</td>\n      <td>38</td>\n      <td>0</td>\n      <td>0</td>\n      <td>0</td>\n      <td>0</td>\n      <td>13350</td>\n      <td>14</td>\n      <td>7580.0</td>\n      <td>15684.0</td>\n      <td>7.0</td>\n      <td>0.0</td>\n      <td>7.0</td>\n      <td>0.0</td>\n      <td>0.0</td>\n      <td>0.0</td>\n      <td>0.0</td>\n      <td>26966</td>\n    </tr>\n  </tbody>\n</table>\n</div>"
     },
     "metadata": {},
     "execution_count": 25
    }
   ],
   "source": [
    "action.head(10)"
   ]
  },
  {
   "source": [
    "## 处理feed_embedding, 将字符串转换为numpy进行存储"
   ],
   "cell_type": "markdown",
   "metadata": {}
  },
  {
   "cell_type": "code",
   "execution_count": 27,
   "metadata": {},
   "outputs": [],
   "source": [
    "feed_em = pd.read_csv('feed_embeddings.csv')\n",
    "# 处理每一行, 将字符串转换为数字\n",
    "feed_em['item_ocr'] = feed_em['feed_embedding'].apply(lambda x: np.array(x.split(' ')[0:512]).astype(np.float64).tolist())"
   ]
  },
  {
   "cell_type": "code",
   "execution_count": 28,
   "metadata": {},
   "outputs": [
    {
     "output_type": "execute_result",
     "data": {
      "text/plain": [
       "   item_id                                           item_ocr\n",
       "0        1  [-0.00509984, -0.0590496, -0.01864357, -0.0142...\n",
       "1        2  [0.02817863, -0.02137377, 0.06678647, 0.014733...\n",
       "2        3  [-0.01880374, 0.03276707, 0.09490133, 0.031316...\n",
       "3        4  [-0.05007412, -0.11540501, 0.04330789, -0.0187...\n",
       "4        5  [0.05636294, 0.01753669, 0.01241871, 0.0152164...\n",
       "5        6  [0.07747091, 0.02647814, 0.0786632, -0.0200964...\n",
       "6        7  [-0.01297182, -0.01348432, 0.05005981, 0.00076...\n",
       "7        8  [-0.0552958, -0.04448033, 0.02940514, 0.081417...\n",
       "8        9  [-0.01446141, -0.00452141, 0.0790388, 0.013322...\n",
       "9       10  [-0.02395611, -0.01667979, 0.09536444, 0.00409..."
      ],
      "text/html": "<div>\n<style scoped>\n    .dataframe tbody tr th:only-of-type {\n        vertical-align: middle;\n    }\n\n    .dataframe tbody tr th {\n        vertical-align: top;\n    }\n\n    .dataframe thead th {\n        text-align: right;\n    }\n</style>\n<table border=\"1\" class=\"dataframe\">\n  <thead>\n    <tr style=\"text-align: right;\">\n      <th></th>\n      <th>item_id</th>\n      <th>item_ocr</th>\n    </tr>\n  </thead>\n  <tbody>\n    <tr>\n      <th>0</th>\n      <td>1</td>\n      <td>[-0.00509984, -0.0590496, -0.01864357, -0.0142...</td>\n    </tr>\n    <tr>\n      <th>1</th>\n      <td>2</td>\n      <td>[0.02817863, -0.02137377, 0.06678647, 0.014733...</td>\n    </tr>\n    <tr>\n      <th>2</th>\n      <td>3</td>\n      <td>[-0.01880374, 0.03276707, 0.09490133, 0.031316...</td>\n    </tr>\n    <tr>\n      <th>3</th>\n      <td>4</td>\n      <td>[-0.05007412, -0.11540501, 0.04330789, -0.0187...</td>\n    </tr>\n    <tr>\n      <th>4</th>\n      <td>5</td>\n      <td>[0.05636294, 0.01753669, 0.01241871, 0.0152164...</td>\n    </tr>\n    <tr>\n      <th>5</th>\n      <td>6</td>\n      <td>[0.07747091, 0.02647814, 0.0786632, -0.0200964...</td>\n    </tr>\n    <tr>\n      <th>6</th>\n      <td>7</td>\n      <td>[-0.01297182, -0.01348432, 0.05005981, 0.00076...</td>\n    </tr>\n    <tr>\n      <th>7</th>\n      <td>8</td>\n      <td>[-0.0552958, -0.04448033, 0.02940514, 0.081417...</td>\n    </tr>\n    <tr>\n      <th>8</th>\n      <td>9</td>\n      <td>[-0.01446141, -0.00452141, 0.0790388, 0.013322...</td>\n    </tr>\n    <tr>\n      <th>9</th>\n      <td>10</td>\n      <td>[-0.02395611, -0.01667979, 0.09536444, 0.00409...</td>\n    </tr>\n  </tbody>\n</table>\n</div>"
     },
     "metadata": {},
     "execution_count": 28
    }
   ],
   "source": [
    "pretrain = feed_em[['feedid', 'item_ocr']]\n",
    "pretrain = pd.merge(pretrain, item_id, on='feedid', how='left')\n",
    "pretrain = pretrain[['item_id', 'item_ocr']]\n",
    "pretrain.sort_values(by='item_id', ascending=True, inplace=True)\n",
    "pretrain.reset_index(drop=True, inplace=True)\n",
    "pretrain.head(10)"
   ]
  },
  {
   "cell_type": "code",
   "execution_count": 29,
   "metadata": {},
   "outputs": [
    {
     "output_type": "execute_result",
     "data": {
      "text/plain": [
       "106444"
      ]
     },
     "metadata": {},
     "execution_count": 29
    }
   ],
   "source": [
    "pretrain['item_id'].max()"
   ]
  },
  {
   "cell_type": "code",
   "execution_count": 30,
   "metadata": {},
   "outputs": [
    {
     "output_type": "execute_result",
     "data": {
      "text/plain": [
       "(106444, 512)"
      ]
     },
     "metadata": {},
     "execution_count": 30
    }
   ],
   "source": [
    "# 先转换为list, 再全部转换为numpy\n",
    "temp = pretrain['item_ocr'].values.tolist()\n",
    "temp = np.array(temp)\n",
    "temp.shape"
   ]
  },
  {
   "cell_type": "code",
   "execution_count": 31,
   "metadata": {},
   "outputs": [
    {
     "output_type": "execute_result",
     "data": {
      "text/plain": [
       "array([0., 0., 0., 0., 0., 0., 0., 0., 0., 0., 0., 0., 0., 0., 0., 0., 0.,\n",
       "       0., 0., 0., 0., 0., 0., 0., 0., 0., 0., 0., 0., 0., 0., 0., 0., 0.,\n",
       "       0., 0., 0., 0., 0., 0., 0., 0., 0., 0., 0., 0., 0., 0., 0., 0., 0.,\n",
       "       0., 0., 0., 0., 0., 0., 0., 0., 0., 0., 0., 0., 0., 0., 0., 0., 0.,\n",
       "       0., 0., 0., 0., 0., 0., 0., 0., 0., 0., 0., 0., 0., 0., 0., 0., 0.,\n",
       "       0., 0., 0., 0., 0., 0., 0., 0., 0., 0., 0., 0., 0., 0., 0., 0., 0.,\n",
       "       0., 0., 0., 0., 0., 0., 0., 0., 0., 0., 0., 0., 0., 0., 0., 0., 0.,\n",
       "       0., 0., 0., 0., 0., 0., 0., 0., 0., 0., 0., 0., 0., 0., 0., 0., 0.,\n",
       "       0., 0., 0., 0., 0., 0., 0., 0., 0., 0., 0., 0., 0., 0., 0., 0., 0.,\n",
       "       0., 0., 0., 0., 0., 0., 0., 0., 0., 0., 0., 0., 0., 0., 0., 0., 0.,\n",
       "       0., 0., 0., 0., 0., 0., 0., 0., 0., 0., 0., 0., 0., 0., 0., 0., 0.,\n",
       "       0., 0., 0., 0., 0., 0., 0., 0., 0., 0., 0., 0., 0., 0., 0., 0., 0.,\n",
       "       0., 0., 0., 0., 0., 0., 0., 0., 0., 0., 0., 0., 0., 0., 0., 0., 0.,\n",
       "       0., 0., 0., 0., 0., 0., 0., 0., 0., 0., 0., 0., 0., 0., 0., 0., 0.,\n",
       "       0., 0., 0., 0., 0., 0., 0., 0., 0., 0., 0., 0., 0., 0., 0., 0., 0.,\n",
       "       0., 0., 0., 0., 0., 0., 0., 0., 0., 0., 0., 0., 0., 0., 0., 0., 0.,\n",
       "       0., 0., 0., 0., 0., 0., 0., 0., 0., 0., 0., 0., 0., 0., 0., 0., 0.,\n",
       "       0., 0., 0., 0., 0., 0., 0., 0., 0., 0., 0., 0., 0., 0., 0., 0., 0.,\n",
       "       0., 0., 0., 0., 0., 0., 0., 0., 0., 0., 0., 0., 0., 0., 0., 0., 0.,\n",
       "       0., 0., 0., 0., 0., 0., 0., 0., 0., 0., 0., 0., 0., 0., 0., 0., 0.,\n",
       "       0., 0., 0., 0., 0., 0., 0., 0., 0., 0., 0., 0., 0., 0., 0., 0., 0.,\n",
       "       0., 0., 0., 0., 0., 0., 0., 0., 0., 0., 0., 0., 0., 0., 0., 0., 0.,\n",
       "       0., 0., 0., 0., 0., 0., 0., 0., 0., 0., 0., 0., 0., 0., 0., 0., 0.,\n",
       "       0., 0., 0., 0., 0., 0., 0., 0., 0., 0., 0., 0., 0., 0., 0., 0., 0.,\n",
       "       0., 0., 0., 0., 0., 0., 0., 0., 0., 0., 0., 0., 0., 0., 0., 0., 0.,\n",
       "       0., 0., 0., 0., 0., 0., 0., 0., 0., 0., 0., 0., 0., 0., 0., 0., 0.,\n",
       "       0., 0., 0., 0., 0., 0., 0., 0., 0., 0., 0., 0., 0., 0., 0., 0., 0.,\n",
       "       0., 0., 0., 0., 0., 0., 0., 0., 0., 0., 0., 0., 0., 0., 0., 0., 0.,\n",
       "       0., 0., 0., 0., 0., 0., 0., 0., 0., 0., 0., 0., 0., 0., 0., 0., 0.,\n",
       "       0., 0., 0., 0., 0., 0., 0., 0., 0., 0., 0., 0., 0., 0., 0., 0., 0.,\n",
       "       0., 0.])"
      ]
     },
     "metadata": {},
     "execution_count": 31
    }
   ],
   "source": [
    "pre = np.insert(temp, 0, np.zeros(512), axis=0)\n",
    "pre[0]"
   ]
  },
  {
   "cell_type": "code",
   "execution_count": 32,
   "metadata": {},
   "outputs": [
    {
     "output_type": "execute_result",
     "data": {
      "text/plain": [
       "(106445, 512)"
      ]
     },
     "metadata": {},
     "execution_count": 32
    }
   ],
   "source": [
    "pre.shape"
   ]
  },
  {
   "cell_type": "code",
   "execution_count": 33,
   "metadata": {},
   "outputs": [],
   "source": [
    "# 进行PCA降维\n",
    "n_dim = 32\n",
    "transformer = PCA(n_components=n_dim)\n",
    "pre = transformer.fit_transform(pre)"
   ]
  },
  {
   "cell_type": "code",
   "execution_count": 34,
   "metadata": {},
   "outputs": [],
   "source": [
    "with open(r'ocr_embedding_' + str(n_dim) + '.pkl', 'wb') as f:\n",
    "    pickle.dump(pre, f)"
   ]
  },
  {
   "cell_type": "code",
   "execution_count": null,
   "metadata": {},
   "outputs": [],
   "source": []
  }
 ]
}