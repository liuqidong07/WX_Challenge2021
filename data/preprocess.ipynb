{
 "metadata": {
  "language_info": {
   "codemirror_mode": {
    "name": "ipython",
    "version": 3
   },
   "file_extension": ".py",
   "mimetype": "text/x-python",
   "name": "python",
   "nbconvert_exporter": "python",
   "pygments_lexer": "ipython3",
   "version": "3.7.10"
  },
  "orig_nbformat": 2,
  "kernelspec": {
   "name": "python3710jvsc74a57bd09c7f61cd7af8a91025d9808f8ebc6c0f0cafdddc4c9ffe8ba00f0e1268577df3",
   "display_name": "Python 3.7.10 64-bit ('rec': conda)"
  }
 },
 "nbformat": 4,
 "nbformat_minor": 2,
 "cells": [
  {
   "cell_type": "code",
   "execution_count": 75,
   "metadata": {},
   "outputs": [],
   "source": [
    "import numpy as np\n",
    "import pandas as pd\n",
    "pd.set_option('max_rows', 100)\n",
    "pd.set_option('max_columns', 100)\n",
    "import matplotlib.pyplot as plt\n",
    "from tqdm import tqdm"
   ]
  },
  {
   "cell_type": "code",
   "execution_count": 76,
   "metadata": {},
   "outputs": [],
   "source": [
    "feed = pd.read_csv('feed_info.csv')\n",
    "#feed_em = pd.read_csv('feed_embeddings.csv')\n",
    "#submit = pd.read_csv('submit_demo_初赛a.csv')\n",
    "test = pd.read_csv('test_a.csv')\n",
    "action = pd.read_csv('user_action.csv')"
   ]
  },
  {
   "source": [
    "# 构造特征与特征预处理\n",
    "要用的已有特征: user_id, item_id, author_id, item_duration, device\n",
    "\n",
    "构造统计特征: 统计用户和物品的评论数, 点赞数, 点击头像数, 转发数, 评论数, 关注数, 收藏数. {user, item}_{read, avatar, favor, forward, comment, follow, like}"
   ],
   "cell_type": "markdown",
   "metadata": {}
  },
  {
   "source": [
    "## 重建id特征\n",
    "把0空出来"
   ],
   "cell_type": "markdown",
   "metadata": {}
  },
  {
   "cell_type": "code",
   "execution_count": 77,
   "metadata": {},
   "outputs": [],
   "source": [
    "user_id = action[['userid']].drop_duplicates()\n",
    "user_id['user_id'] = np.arange(user_id.shape[0]) + 1\n",
    "item_id = feed[['feedid']].drop_duplicates()\n",
    "item_id['item_id'] = np.arange(item_id.shape[0]) + 1\n",
    "feed = feed.merge(item_id, on='feedid')\n",
    "action = action.merge(item_id, on='feedid')\n",
    "action = action.merge(user_id, on='userid')\n",
    "test = test.merge(item_id, on='feedid')\n",
    "test = test.merge(user_id, on='userid')"
   ]
  },
  {
   "source": [
    "## 构造item特征\n",
    "- item_id, author_id, item_duration, 统计特征\n",
    "- bgm_song_id和bgm_singer_id补全缺失"
   ],
   "cell_type": "markdown",
   "metadata": {}
  },
  {
   "cell_type": "code",
   "execution_count": 78,
   "metadata": {},
   "outputs": [],
   "source": [
    "item = feed[['item_id', 'authorid', 'videoplayseconds', 'bgm_song_id', 'bgm_singer_id']]"
   ]
  },
  {
   "cell_type": "code",
   "execution_count": 79,
   "metadata": {},
   "outputs": [
    {
     "output_type": "stream",
     "name": "stderr",
     "text": [
      "/opt/conda/envs/rec/lib/python3.7/site-packages/ipykernel_launcher.py:2: SettingWithCopyWarning: \nA value is trying to be set on a copy of a slice from a DataFrame.\nTry using .loc[row_indexer,col_indexer] = value instead\n\nSee the caveats in the documentation: https://pandas.pydata.org/pandas-docs/stable/user_guide/indexing.html#returning-a-view-versus-a-copy\n  \n/opt/conda/envs/rec/lib/python3.7/site-packages/ipykernel_launcher.py:3: SettingWithCopyWarning: \nA value is trying to be set on a copy of a slice from a DataFrame.\nTry using .loc[row_indexer,col_indexer] = value instead\n\nSee the caveats in the documentation: https://pandas.pydata.org/pandas-docs/stable/user_guide/indexing.html#returning-a-view-versus-a-copy\n  This is separate from the ipykernel package so we can avoid doing imports until\n/opt/conda/envs/rec/lib/python3.7/site-packages/pandas/core/series.py:4469: SettingWithCopyWarning: \nA value is trying to be set on a copy of a slice from a DataFrame\n\nSee the caveats in the documentation: https://pandas.pydata.org/pandas-docs/stable/user_guide/indexing.html#returning-a-view-versus-a-copy\n  downcast=downcast,\n"
     ]
    }
   ],
   "source": [
    "# 这两个类别特征先加1, 然后缺失为类别0\n",
    "item['bgm_song_id'] = item['bgm_song_id'] + 1\n",
    "item['bgm_singer_id'] = item['bgm_singer_id'] + 1\n",
    "item['bgm_song_id'].fillna(0, inplace=True)\n",
    "item['bgm_singer_id'].fillna(0, inplace=True)"
   ]
  },
  {
   "cell_type": "code",
   "execution_count": 80,
   "metadata": {},
   "outputs": [],
   "source": [
    "statis_feat = ['read_comment', 'comment', 'like', 'click_avatar', 'forward', 'follow', 'favorite']"
   ]
  },
  {
   "cell_type": "code",
   "execution_count": 81,
   "metadata": {},
   "outputs": [],
   "source": [
    "item_statis = action.groupby('item_id').agg({'read_comment': 'sum', 'comment': 'sum', 'like': 'sum', 'click_avatar': 'sum', 'forward': 'sum', 'follow': 'sum', 'favorite': 'sum'}).reset_index()"
   ]
  },
  {
   "cell_type": "code",
   "execution_count": 82,
   "metadata": {},
   "outputs": [
    {
     "output_type": "execute_result",
     "data": {
      "text/plain": [
       "item_id             False\n",
       "authorid            False\n",
       "videoplayseconds    False\n",
       "bgm_song_id         False\n",
       "bgm_singer_id       False\n",
       "read_comment        False\n",
       "comment             False\n",
       "like                False\n",
       "click_avatar        False\n",
       "forward             False\n",
       "follow              False\n",
       "favorite            False\n",
       "dtype: bool"
      ]
     },
     "metadata": {},
     "execution_count": 82
    }
   ],
   "source": [
    "item = pd.merge(item, item_statis, on='item_id', how='left')\n",
    "item.fillna(0, inplace=True)  # 没有交互的视频统计特征均为0\n",
    "item.isnull().any()"
   ]
  },
  {
   "cell_type": "code",
   "execution_count": 83,
   "metadata": {},
   "outputs": [],
   "source": [
    "item.rename(columns={'read_comment': 'item_read', 'comment': 'item_comment', 'like': 'item_like', 'click_avatar': 'item_avatar', 'forward': 'item_forward', 'follow': 'item_follow', 'favorite': 'item_favor', 'bgm_song_id': 'item_song', 'bgm_singer_id': 'item_singer', 'authorid': 'author_id'}, inplace=True)"
   ]
  },
  {
   "source": [
    "## 构造user特征\n",
    "- user_id, 统计特征"
   ],
   "cell_type": "markdown",
   "metadata": {}
  },
  {
   "cell_type": "code",
   "execution_count": 84,
   "metadata": {},
   "outputs": [
    {
     "output_type": "execute_result",
     "data": {
      "text/plain": [
       "user_id         False\n",
       "read_comment    False\n",
       "comment         False\n",
       "like            False\n",
       "click_avatar    False\n",
       "forward         False\n",
       "follow          False\n",
       "favorite        False\n",
       "dtype: bool"
      ]
     },
     "metadata": {},
     "execution_count": 84
    }
   ],
   "source": [
    "user = action.groupby('user_id').agg({'read_comment': 'sum', 'comment': 'sum', 'like': 'sum', 'click_avatar': 'sum', 'forward': 'sum', 'follow': 'sum', 'favorite': 'sum'}).reset_index()\n",
    "user.isnull().any()"
   ]
  },
  {
   "cell_type": "code",
   "execution_count": 85,
   "metadata": {},
   "outputs": [],
   "source": [
    "user.rename(columns={'read_comment': 'user_read', 'comment': 'user_comment', 'like': 'user_like', 'click_avatar': 'user_avatar', 'forward': 'user_forward', 'follow': 'user_follow', 'favorite': 'user_favor'}, inplace=True)"
   ]
  },
  {
   "source": [
    "# 数据划分\n",
    "将数据划分为训练集和验证集\n",
    "\n",
    "把1-13天的数据作为训练集, 把第14天的数据作为验证集"
   ],
   "cell_type": "markdown",
   "metadata": {}
  },
  {
   "cell_type": "code",
   "execution_count": 86,
   "metadata": {},
   "outputs": [],
   "source": [
    "# 划分数据集\n",
    "#train = action.loc[action['date_']<14]\n",
    "#validation = action.loc[action['date_']==14]\n",
    "# 修改列名\n",
    "#train = train[['user_id', 'item_id', 'device', 'read_comment', 'like', 'click_avatar', 'forward']]\n",
    "#validation = validation[['user_id', 'item_id', 'device', 'read_comment', 'like', 'click_avatar', 'forward']]"
   ]
  },
  {
   "cell_type": "code",
   "execution_count": 87,
   "metadata": {},
   "outputs": [],
   "source": [
    "#train.shape, validation.shape"
   ]
  },
  {
   "source": [
    "# 数据存储"
   ],
   "cell_type": "markdown",
   "metadata": {}
  },
  {
   "cell_type": "code",
   "execution_count": 88,
   "metadata": {},
   "outputs": [],
   "source": [
    "# 合并特征\n",
    "#train = pd.merge(train, user, on='user_id', how='left')\n",
    "#train = pd.merge(train, item, on='item_id', how='left')\n",
    "#validation = pd.merge(validation, user, on='user_id', how='left')\n",
    "#validation = pd.merge(validation, item, on='item_id', how='left')"
   ]
  },
  {
   "cell_type": "code",
   "execution_count": 89,
   "metadata": {},
   "outputs": [],
   "source": [
    "# 修改列名\n",
    "action = action[['user_id', 'date_', 'item_id', 'device', 'read_comment', 'like', 'click_avatar', 'forward']]\n",
    "# 合并特征\n",
    "action = pd.merge(action, user, on='user_id', how='left')\n",
    "action = pd.merge(action, item, on='item_id', how='left')"
   ]
  },
  {
   "cell_type": "code",
   "execution_count": 90,
   "metadata": {},
   "outputs": [],
   "source": [
    "test = test[['user_id', 'item_id', 'device']]\n",
    "test = pd.merge(test, user, on='user_id', how='left')\n",
    "test = pd.merge(test, item, on='item_id', how='left')"
   ]
  },
  {
   "cell_type": "code",
   "execution_count": 91,
   "metadata": {},
   "outputs": [],
   "source": [
    "import pickle\n",
    "with open('train.pkl', 'wb') as f:\n",
    "    pickle.dump(action, f)\n",
    "with open('test.pkl', 'wb') as f:\n",
    "    pickle.dump(test, f)"
   ]
  },
  {
   "cell_type": "code",
   "execution_count": 109,
   "metadata": {},
   "outputs": [],
   "source": [
    "with open('transform_id.pkl', 'wb') as f:\n",
    "    pickle.dump((user_id, item_id), f)"
   ]
  },
  {
   "cell_type": "code",
   "execution_count": 92,
   "metadata": {},
   "outputs": [
    {
     "output_type": "execute_result",
     "data": {
      "text/plain": [
       "(20000, 1, (20000, 8))"
      ]
     },
     "metadata": {},
     "execution_count": 92
    }
   ],
   "source": [
    "user['user_id'].max(), user['user_id'].min(), user.shape"
   ]
  },
  {
   "cell_type": "code",
   "execution_count": 93,
   "metadata": {},
   "outputs": [
    {
     "output_type": "execute_result",
     "data": {
      "text/plain": [
       "(106444, 1, (106444, 12))"
      ]
     },
     "metadata": {},
     "execution_count": 93
    }
   ],
   "source": [
    "item['item_id'].max(), item['item_id'].min(), item.shape"
   ]
  },
  {
   "cell_type": "code",
   "execution_count": 94,
   "metadata": {},
   "outputs": [
    {
     "output_type": "execute_result",
     "data": {
      "text/plain": [
       "   user_id  date_  item_id  device  read_comment  like  click_avatar  forward  \\\n",
       "0        1      1    31464       1             0     1             0        0   \n",
       "1        1      1    35896       1             0     0             0        0   \n",
       "2        1      1    38881       1             0     0             0        0   \n",
       "3        1      1     7666       1             0     1             0        0   \n",
       "4        1      1    20649       1             0     0             0        0   \n",
       "5        1      1    30092       1             0     0             0        0   \n",
       "6        1      1    28348       1             0     0             0        0   \n",
       "7        1      1    30493       1             0     0             0        0   \n",
       "8        1      1    40152       1             0     0             0        0   \n",
       "9        1      1    26966       1             0     0             0        0   \n",
       "\n",
       "   user_read  user_comment  user_like  user_avatar  user_forward  user_follow  \\\n",
       "0          0             0         38            0             0            0   \n",
       "1          0             0         38            0             0            0   \n",
       "2          0             0         38            0             0            0   \n",
       "3          0             0         38            0             0            0   \n",
       "4          0             0         38            0             0            0   \n",
       "5          0             0         38            0             0            0   \n",
       "6          0             0         38            0             0            0   \n",
       "7          0             0         38            0             0            0   \n",
       "8          0             0         38            0             0            0   \n",
       "9          0             0         38            0             0            0   \n",
       "\n",
       "   user_favor  author_id  videoplayseconds  item_song  item_singer  item_read  \\\n",
       "0           0       1528                11    13746.0       3557.0       29.0   \n",
       "1           0       1442                16        0.0          0.0      111.0   \n",
       "2           0       8648                31        0.0          0.0       18.0   \n",
       "3           0      11976                 6    13097.0       5013.0        8.0   \n",
       "4           0       4370                12    22216.0       7900.0        1.0   \n",
       "5           0       5607                16     9884.0       5419.0        9.0   \n",
       "6           0      13941                19    21826.0        160.0       10.0   \n",
       "7           0      12034                 8    14619.0      11953.0       19.0   \n",
       "8           0      12180                 7    14572.0      16921.0       27.0   \n",
       "9           0      13350                14     7580.0      15684.0        7.0   \n",
       "\n",
       "   item_comment  item_like  item_avatar  item_forward  item_follow  item_favor  \n",
       "0           0.0       25.0          2.0           1.0          0.0         0.0  \n",
       "1           0.0       59.0          5.0           2.0          1.0         1.0  \n",
       "2           1.0       37.0         13.0           5.0          1.0         1.0  \n",
       "3           0.0       34.0          1.0           2.0          0.0         1.0  \n",
       "4           0.0        1.0          0.0           0.0          0.0         0.0  \n",
       "5           0.0       15.0          1.0           0.0          0.0         1.0  \n",
       "6           0.0        4.0          0.0           2.0          0.0         0.0  \n",
       "7           1.0       26.0          3.0           0.0          0.0         0.0  \n",
       "8           0.0       53.0          1.0           0.0          0.0         0.0  \n",
       "9           0.0        7.0          0.0           0.0          0.0         0.0  "
      ],
      "text/html": "<div>\n<style scoped>\n    .dataframe tbody tr th:only-of-type {\n        vertical-align: middle;\n    }\n\n    .dataframe tbody tr th {\n        vertical-align: top;\n    }\n\n    .dataframe thead th {\n        text-align: right;\n    }\n</style>\n<table border=\"1\" class=\"dataframe\">\n  <thead>\n    <tr style=\"text-align: right;\">\n      <th></th>\n      <th>user_id</th>\n      <th>date_</th>\n      <th>item_id</th>\n      <th>device</th>\n      <th>read_comment</th>\n      <th>like</th>\n      <th>click_avatar</th>\n      <th>forward</th>\n      <th>user_read</th>\n      <th>user_comment</th>\n      <th>user_like</th>\n      <th>user_avatar</th>\n      <th>user_forward</th>\n      <th>user_follow</th>\n      <th>user_favor</th>\n      <th>author_id</th>\n      <th>videoplayseconds</th>\n      <th>item_song</th>\n      <th>item_singer</th>\n      <th>item_read</th>\n      <th>item_comment</th>\n      <th>item_like</th>\n      <th>item_avatar</th>\n      <th>item_forward</th>\n      <th>item_follow</th>\n      <th>item_favor</th>\n    </tr>\n  </thead>\n  <tbody>\n    <tr>\n      <th>0</th>\n      <td>1</td>\n      <td>1</td>\n      <td>31464</td>\n      <td>1</td>\n      <td>0</td>\n      <td>1</td>\n      <td>0</td>\n      <td>0</td>\n      <td>0</td>\n      <td>0</td>\n      <td>38</td>\n      <td>0</td>\n      <td>0</td>\n      <td>0</td>\n      <td>0</td>\n      <td>1528</td>\n      <td>11</td>\n      <td>13746.0</td>\n      <td>3557.0</td>\n      <td>29.0</td>\n      <td>0.0</td>\n      <td>25.0</td>\n      <td>2.0</td>\n      <td>1.0</td>\n      <td>0.0</td>\n      <td>0.0</td>\n    </tr>\n    <tr>\n      <th>1</th>\n      <td>1</td>\n      <td>1</td>\n      <td>35896</td>\n      <td>1</td>\n      <td>0</td>\n      <td>0</td>\n      <td>0</td>\n      <td>0</td>\n      <td>0</td>\n      <td>0</td>\n      <td>38</td>\n      <td>0</td>\n      <td>0</td>\n      <td>0</td>\n      <td>0</td>\n      <td>1442</td>\n      <td>16</td>\n      <td>0.0</td>\n      <td>0.0</td>\n      <td>111.0</td>\n      <td>0.0</td>\n      <td>59.0</td>\n      <td>5.0</td>\n      <td>2.0</td>\n      <td>1.0</td>\n      <td>1.0</td>\n    </tr>\n    <tr>\n      <th>2</th>\n      <td>1</td>\n      <td>1</td>\n      <td>38881</td>\n      <td>1</td>\n      <td>0</td>\n      <td>0</td>\n      <td>0</td>\n      <td>0</td>\n      <td>0</td>\n      <td>0</td>\n      <td>38</td>\n      <td>0</td>\n      <td>0</td>\n      <td>0</td>\n      <td>0</td>\n      <td>8648</td>\n      <td>31</td>\n      <td>0.0</td>\n      <td>0.0</td>\n      <td>18.0</td>\n      <td>1.0</td>\n      <td>37.0</td>\n      <td>13.0</td>\n      <td>5.0</td>\n      <td>1.0</td>\n      <td>1.0</td>\n    </tr>\n    <tr>\n      <th>3</th>\n      <td>1</td>\n      <td>1</td>\n      <td>7666</td>\n      <td>1</td>\n      <td>0</td>\n      <td>1</td>\n      <td>0</td>\n      <td>0</td>\n      <td>0</td>\n      <td>0</td>\n      <td>38</td>\n      <td>0</td>\n      <td>0</td>\n      <td>0</td>\n      <td>0</td>\n      <td>11976</td>\n      <td>6</td>\n      <td>13097.0</td>\n      <td>5013.0</td>\n      <td>8.0</td>\n      <td>0.0</td>\n      <td>34.0</td>\n      <td>1.0</td>\n      <td>2.0</td>\n      <td>0.0</td>\n      <td>1.0</td>\n    </tr>\n    <tr>\n      <th>4</th>\n      <td>1</td>\n      <td>1</td>\n      <td>20649</td>\n      <td>1</td>\n      <td>0</td>\n      <td>0</td>\n      <td>0</td>\n      <td>0</td>\n      <td>0</td>\n      <td>0</td>\n      <td>38</td>\n      <td>0</td>\n      <td>0</td>\n      <td>0</td>\n      <td>0</td>\n      <td>4370</td>\n      <td>12</td>\n      <td>22216.0</td>\n      <td>7900.0</td>\n      <td>1.0</td>\n      <td>0.0</td>\n      <td>1.0</td>\n      <td>0.0</td>\n      <td>0.0</td>\n      <td>0.0</td>\n      <td>0.0</td>\n    </tr>\n    <tr>\n      <th>5</th>\n      <td>1</td>\n      <td>1</td>\n      <td>30092</td>\n      <td>1</td>\n      <td>0</td>\n      <td>0</td>\n      <td>0</td>\n      <td>0</td>\n      <td>0</td>\n      <td>0</td>\n      <td>38</td>\n      <td>0</td>\n      <td>0</td>\n      <td>0</td>\n      <td>0</td>\n      <td>5607</td>\n      <td>16</td>\n      <td>9884.0</td>\n      <td>5419.0</td>\n      <td>9.0</td>\n      <td>0.0</td>\n      <td>15.0</td>\n      <td>1.0</td>\n      <td>0.0</td>\n      <td>0.0</td>\n      <td>1.0</td>\n    </tr>\n    <tr>\n      <th>6</th>\n      <td>1</td>\n      <td>1</td>\n      <td>28348</td>\n      <td>1</td>\n      <td>0</td>\n      <td>0</td>\n      <td>0</td>\n      <td>0</td>\n      <td>0</td>\n      <td>0</td>\n      <td>38</td>\n      <td>0</td>\n      <td>0</td>\n      <td>0</td>\n      <td>0</td>\n      <td>13941</td>\n      <td>19</td>\n      <td>21826.0</td>\n      <td>160.0</td>\n      <td>10.0</td>\n      <td>0.0</td>\n      <td>4.0</td>\n      <td>0.0</td>\n      <td>2.0</td>\n      <td>0.0</td>\n      <td>0.0</td>\n    </tr>\n    <tr>\n      <th>7</th>\n      <td>1</td>\n      <td>1</td>\n      <td>30493</td>\n      <td>1</td>\n      <td>0</td>\n      <td>0</td>\n      <td>0</td>\n      <td>0</td>\n      <td>0</td>\n      <td>0</td>\n      <td>38</td>\n      <td>0</td>\n      <td>0</td>\n      <td>0</td>\n      <td>0</td>\n      <td>12034</td>\n      <td>8</td>\n      <td>14619.0</td>\n      <td>11953.0</td>\n      <td>19.0</td>\n      <td>1.0</td>\n      <td>26.0</td>\n      <td>3.0</td>\n      <td>0.0</td>\n      <td>0.0</td>\n      <td>0.0</td>\n    </tr>\n    <tr>\n      <th>8</th>\n      <td>1</td>\n      <td>1</td>\n      <td>40152</td>\n      <td>1</td>\n      <td>0</td>\n      <td>0</td>\n      <td>0</td>\n      <td>0</td>\n      <td>0</td>\n      <td>0</td>\n      <td>38</td>\n      <td>0</td>\n      <td>0</td>\n      <td>0</td>\n      <td>0</td>\n      <td>12180</td>\n      <td>7</td>\n      <td>14572.0</td>\n      <td>16921.0</td>\n      <td>27.0</td>\n      <td>0.0</td>\n      <td>53.0</td>\n      <td>1.0</td>\n      <td>0.0</td>\n      <td>0.0</td>\n      <td>0.0</td>\n    </tr>\n    <tr>\n      <th>9</th>\n      <td>1</td>\n      <td>1</td>\n      <td>26966</td>\n      <td>1</td>\n      <td>0</td>\n      <td>0</td>\n      <td>0</td>\n      <td>0</td>\n      <td>0</td>\n      <td>0</td>\n      <td>38</td>\n      <td>0</td>\n      <td>0</td>\n      <td>0</td>\n      <td>0</td>\n      <td>13350</td>\n      <td>14</td>\n      <td>7580.0</td>\n      <td>15684.0</td>\n      <td>7.0</td>\n      <td>0.0</td>\n      <td>7.0</td>\n      <td>0.0</td>\n      <td>0.0</td>\n      <td>0.0</td>\n      <td>0.0</td>\n    </tr>\n  </tbody>\n</table>\n</div>"
     },
     "metadata": {},
     "execution_count": 94
    }
   ],
   "source": [
    "action.head(10)"
   ]
  },
  {
   "cell_type": "code",
   "execution_count": null,
   "metadata": {},
   "outputs": [],
   "source": []
  }
 ]
}