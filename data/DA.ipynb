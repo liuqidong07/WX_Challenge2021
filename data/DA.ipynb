{
 "metadata": {
  "language_info": {
   "codemirror_mode": {
    "name": "ipython",
    "version": 3
   },
   "file_extension": ".py",
   "mimetype": "text/x-python",
   "name": "python",
   "nbconvert_exporter": "python",
   "pygments_lexer": "ipython3",
   "version": "3.7.10"
  },
  "orig_nbformat": 2,
  "kernelspec": {
   "name": "python3710jvsc74a57bd09c7f61cd7af8a91025d9808f8ebc6c0f0cafdddc4c9ffe8ba00f0e1268577df3",
   "display_name": "Python 3.7.10 64-bit ('rec': conda)"
  }
 },
 "nbformat": 4,
 "nbformat_minor": 2,
 "cells": [
  {
   "cell_type": "code",
   "execution_count": 15,
   "metadata": {},
   "outputs": [],
   "source": [
    "import numpy as np\n",
    "import pandas as pd\n",
    "pd.set_option('max_rows', 100)\n",
    "pd.set_option('max_columns', 100)\n",
    "import matplotlib.pyplot as plt\n",
    "from tqdm import tqdm"
   ]
  },
  {
   "cell_type": "code",
   "execution_count": 16,
   "metadata": {},
   "outputs": [],
   "source": [
    "feed = pd.read_csv('feed_info.csv')\n",
    "feed_em = pd.read_csv('feed_embeddings.csv')\n",
    "submit = pd.read_csv('submit_demo_初赛a.csv')\n",
    "test = pd.read_csv('test_a.csv')\n",
    "action = pd.read_csv('user_action.csv')"
   ]
  },
  {
   "source": [
    "# Feed表\n",
    "包含了物品(视频)的基本信息和文本,音频,视频等多模态特征"
   ],
   "cell_type": "markdown",
   "metadata": {}
  },
  {
   "cell_type": "code",
   "execution_count": 17,
   "metadata": {},
   "outputs": [
    {
     "output_type": "execute_result",
     "data": {
      "text/plain": [
       "   feedid  authorid  videoplayseconds  \\\n",
       "0   43549      6165                38   \n",
       "1   77432      9386                60   \n",
       "2   12921      2996                15   \n",
       "3   34538     12577                18   \n",
       "4   75414      7185                16   \n",
       "5   34539      2595                43   \n",
       "6  101310      8115                15   \n",
       "7   13769     11696                25   \n",
       "8    6311      9533                60   \n",
       "9    6801     13501                14   \n",
       "\n",
       "                                         description  \\\n",
       "0  104741 122649 8109 117252 65632 23463 118668 4...   \n",
       "1  35753 27736 146603 73055 11794 101761 11794 81...   \n",
       "2  114413 107973 117252 27736 41035 32715 125374 ...   \n",
       "3  60473 9864 8109 135558 108803 89307 37630 6481...   \n",
       "4  105860 4691 134820 55911 80449 79213 23233 139...   \n",
       "5  123046 116187 8092 22091 77895 11717 93522 100...   \n",
       "6  106872 36623 26564 8109 110838 148383 26564 33...   \n",
       "7  144240 54435 37630 117252 27736 40670 134820 1...   \n",
       "8  102036 39661 66989 110142 118715 93522 24335 8...   \n",
       "9  45012 25146 45443 122452 875 80983 8109 25146 ...   \n",
       "\n",
       "                                                 ocr  \\\n",
       "0  139499 59421 82007 142955 27736 83577 52394 11...   \n",
       "1  35753 146603 73055 11794 101761 67496 16933 52...   \n",
       "2                                                NaN   \n",
       "3  39654 95201 22675 49521 135558 108803 89307 37...   \n",
       "4                                  73055 66447 88970   \n",
       "5  61498 70163 1428 123046 116187 44971 3063 3214...   \n",
       "6       9837 110838 148383 26564 33895 110690 133005   \n",
       "7  63733 106137 31785 73044 25794 65020 90843 107...   \n",
       "8  122344 140404 55785 26564 93563 102383 27736 7...   \n",
       "9  20248 33368 37767 37767 82007 78435 69591 9354...   \n",
       "\n",
       "                                                 asr  bgm_song_id  \\\n",
       "0  142955 27736 83577 103956 32010 34170 89740 90...      19356.0   \n",
       "1  146739 14368 79290 79213 47366 8109 33194 1198...          NaN   \n",
       "2                                                NaN      10288.0   \n",
       "3  7446 47082 37630 99660 9844 113002 9844 113002...      24435.0   \n",
       "4                            104002 4438 104002 4438      23428.0   \n",
       "5  147566 45843 10952 25290 79030 11717 34198 993...      16541.0   \n",
       "6  117252 44854 26564 110142 93536 91254 8109 983...      19367.0   \n",
       "7  123075 11342 79301 23908 110100 112151 110677 ...          NaN   \n",
       "8  90843 31279 117347 116237 8109 287 49575 56976...          NaN   \n",
       "9  90290 77895 25146 106949 129539 106793 304 277...          NaN   \n",
       "\n",
       "   bgm_singer_id manual_keyword_list  \\\n",
       "0        11703.0    15506;7715;17582   \n",
       "1            NaN     8199;18322;4243   \n",
       "2        11354.0                 NaN   \n",
       "3        13645.0      5454;1197;3727   \n",
       "4        10730.0          17083;4123   \n",
       "5        17296.0      529;2666;26954   \n",
       "6        10532.0                 NaN   \n",
       "7            NaN                 NaN   \n",
       "8            NaN                 NaN   \n",
       "9            NaN   15506;17582;10844   \n",
       "\n",
       "                              machine_keyword_list manual_tag_list  \\\n",
       "0                       26334;219;25209;7715;18541    81;269;159;6   \n",
       "1                                      24078;19924   194;267;159;6   \n",
       "2                                       11696;6926    202;23;160;6   \n",
       "3                                              NaN    328;13;159;6   \n",
       "4                       8058;219;21639;15621;25209    81;269;159;6   \n",
       "5                                         529;9298  45;239;159;169   \n",
       "6  18351;13433;25057;11002;14687;10664;19485;12865             9;6   \n",
       "7                                 8800;11061;15752             9;6   \n",
       "8                                      17892;18428             9;6   \n",
       "9                             25209;219;4826;25500    81;269;159;6   \n",
       "\n",
       "                                    machine_tag_list  \\\n",
       "0  269 0.8525666;81 0.8525666;8 1.1e-07;306 0.0;2...   \n",
       "1                      267 0.99293476;194 0.99293476   \n",
       "2                       23 0.64771646;202 0.64771646   \n",
       "3  267 0.21298289;191 0.21298289;8 0.34298885;306...   \n",
       "4                       269 0.86163938;81 0.86163938   \n",
       "5  239 0.68520623;45 0.68520623;8 0.0;306 0.0;207...   \n",
       "6                      237 0.90296459;246 0.90296459   \n",
       "7                        17 0.74826479;37 0.74826479   \n",
       "8                      235 0.36773422;204 0.36773422   \n",
       "9                       269 0.96752864;81 0.96752864   \n",
       "\n",
       "                                    description_char  \\\n",
       "0  26439 5247 6426 3827 1882 26018 20744 22204 30...   \n",
       "1  31010 32495 6243 13923 15360 30483 2709 26084 ...   \n",
       "2  27077 10050 27464 20072 26018 6243 21492 14750...   \n",
       "3  21489 24672 2223 1882 4956 1545 10424 19791 12...   \n",
       "4  25782 19583 7768 3907 14068 12681 5043 17859 1...   \n",
       "5  27442 1543 31605 1868 20857 22179 17181 7261 8...   \n",
       "6  20831 11704 11598 11354 5967 1882 1217 23805 1...   \n",
       "7  12783 22473 5277 10040 12837 26018 6243 8311 3...   \n",
       "8  2682 32028 12649 7461 4913 29499 24513 24368 2...   \n",
       "9  10226 13505 15360 10326 17526 26208 253 12762 ...   \n",
       "\n",
       "                                            ocr_char  \\\n",
       "0  25926 8491 13394 2203 26439 6243 33054 16435 1...   \n",
       "1  31010 32495 13923 15360 30483 2709 26084 15160...   \n",
       "2                                                NaN   \n",
       "3  9015 21209 5026 11192 4956 1545 10424 19791 12...   \n",
       "4                       30483 23721 1518 22741 25118   \n",
       "5  13842 6439 32379 25274 8847 1251 27442 1543 31...   \n",
       "6  2200 1217 23805 10083 14040 5967 12194 13395 1...   \n",
       "7  20857 15640 7261 23039 30060 32499 5009 8481 7...   \n",
       "8  12676 3901 31177 12653 5967 20857 3653 11877 6...   \n",
       "9  27393 7536 7349 7349 17323 11893 20838 18755 3...   \n",
       "\n",
       "                                            asr_char  \n",
       "0  2203 26439 6243 33054 16435 16307 17070 24908 ...  \n",
       "1  7259 20851 5061 26207 17573 17531 15117 20072 ...  \n",
       "2                                                NaN  \n",
       "3  20825 13395 14765 24513 7305 12837 10337 8885 ...  \n",
       "4                                23112 969 23112 969  \n",
       "5  15371 6498 31376 30024 24307 21492 10083 20072...  \n",
       "6  26018 10155 5967 24513 20833 5311 32214 1882 2...  \n",
       "7  30191 2606 17583 5391 20861 15640 12836 4895 1...  \n",
       "8  26018 2223 30031 2220 26054 18659 15360 1882 6...  \n",
       "9  20085 17181 13505 15360 23786 14009 12831 2706...  "
      ],
      "text/html": "<div>\n<style scoped>\n    .dataframe tbody tr th:only-of-type {\n        vertical-align: middle;\n    }\n\n    .dataframe tbody tr th {\n        vertical-align: top;\n    }\n\n    .dataframe thead th {\n        text-align: right;\n    }\n</style>\n<table border=\"1\" class=\"dataframe\">\n  <thead>\n    <tr style=\"text-align: right;\">\n      <th></th>\n      <th>feedid</th>\n      <th>authorid</th>\n      <th>videoplayseconds</th>\n      <th>description</th>\n      <th>ocr</th>\n      <th>asr</th>\n      <th>bgm_song_id</th>\n      <th>bgm_singer_id</th>\n      <th>manual_keyword_list</th>\n      <th>machine_keyword_list</th>\n      <th>manual_tag_list</th>\n      <th>machine_tag_list</th>\n      <th>description_char</th>\n      <th>ocr_char</th>\n      <th>asr_char</th>\n    </tr>\n  </thead>\n  <tbody>\n    <tr>\n      <th>0</th>\n      <td>43549</td>\n      <td>6165</td>\n      <td>38</td>\n      <td>104741 122649 8109 117252 65632 23463 118668 4...</td>\n      <td>139499 59421 82007 142955 27736 83577 52394 11...</td>\n      <td>142955 27736 83577 103956 32010 34170 89740 90...</td>\n      <td>19356.0</td>\n      <td>11703.0</td>\n      <td>15506;7715;17582</td>\n      <td>26334;219;25209;7715;18541</td>\n      <td>81;269;159;6</td>\n      <td>269 0.8525666;81 0.8525666;8 1.1e-07;306 0.0;2...</td>\n      <td>26439 5247 6426 3827 1882 26018 20744 22204 30...</td>\n      <td>25926 8491 13394 2203 26439 6243 33054 16435 1...</td>\n      <td>2203 26439 6243 33054 16435 16307 17070 24908 ...</td>\n    </tr>\n    <tr>\n      <th>1</th>\n      <td>77432</td>\n      <td>9386</td>\n      <td>60</td>\n      <td>35753 27736 146603 73055 11794 101761 11794 81...</td>\n      <td>35753 146603 73055 11794 101761 67496 16933 52...</td>\n      <td>146739 14368 79290 79213 47366 8109 33194 1198...</td>\n      <td>NaN</td>\n      <td>NaN</td>\n      <td>8199;18322;4243</td>\n      <td>24078;19924</td>\n      <td>194;267;159;6</td>\n      <td>267 0.99293476;194 0.99293476</td>\n      <td>31010 32495 6243 13923 15360 30483 2709 26084 ...</td>\n      <td>31010 32495 13923 15360 30483 2709 26084 15160...</td>\n      <td>7259 20851 5061 26207 17573 17531 15117 20072 ...</td>\n    </tr>\n    <tr>\n      <th>2</th>\n      <td>12921</td>\n      <td>2996</td>\n      <td>15</td>\n      <td>114413 107973 117252 27736 41035 32715 125374 ...</td>\n      <td>NaN</td>\n      <td>NaN</td>\n      <td>10288.0</td>\n      <td>11354.0</td>\n      <td>NaN</td>\n      <td>11696;6926</td>\n      <td>202;23;160;6</td>\n      <td>23 0.64771646;202 0.64771646</td>\n      <td>27077 10050 27464 20072 26018 6243 21492 14750...</td>\n      <td>NaN</td>\n      <td>NaN</td>\n    </tr>\n    <tr>\n      <th>3</th>\n      <td>34538</td>\n      <td>12577</td>\n      <td>18</td>\n      <td>60473 9864 8109 135558 108803 89307 37630 6481...</td>\n      <td>39654 95201 22675 49521 135558 108803 89307 37...</td>\n      <td>7446 47082 37630 99660 9844 113002 9844 113002...</td>\n      <td>24435.0</td>\n      <td>13645.0</td>\n      <td>5454;1197;3727</td>\n      <td>NaN</td>\n      <td>328;13;159;6</td>\n      <td>267 0.21298289;191 0.21298289;8 0.34298885;306...</td>\n      <td>21489 24672 2223 1882 4956 1545 10424 19791 12...</td>\n      <td>9015 21209 5026 11192 4956 1545 10424 19791 12...</td>\n      <td>20825 13395 14765 24513 7305 12837 10337 8885 ...</td>\n    </tr>\n    <tr>\n      <th>4</th>\n      <td>75414</td>\n      <td>7185</td>\n      <td>16</td>\n      <td>105860 4691 134820 55911 80449 79213 23233 139...</td>\n      <td>73055 66447 88970</td>\n      <td>104002 4438 104002 4438</td>\n      <td>23428.0</td>\n      <td>10730.0</td>\n      <td>17083;4123</td>\n      <td>8058;219;21639;15621;25209</td>\n      <td>81;269;159;6</td>\n      <td>269 0.86163938;81 0.86163938</td>\n      <td>25782 19583 7768 3907 14068 12681 5043 17859 1...</td>\n      <td>30483 23721 1518 22741 25118</td>\n      <td>23112 969 23112 969</td>\n    </tr>\n    <tr>\n      <th>5</th>\n      <td>34539</td>\n      <td>2595</td>\n      <td>43</td>\n      <td>123046 116187 8092 22091 77895 11717 93522 100...</td>\n      <td>61498 70163 1428 123046 116187 44971 3063 3214...</td>\n      <td>147566 45843 10952 25290 79030 11717 34198 993...</td>\n      <td>16541.0</td>\n      <td>17296.0</td>\n      <td>529;2666;26954</td>\n      <td>529;9298</td>\n      <td>45;239;159;169</td>\n      <td>239 0.68520623;45 0.68520623;8 0.0;306 0.0;207...</td>\n      <td>27442 1543 31605 1868 20857 22179 17181 7261 8...</td>\n      <td>13842 6439 32379 25274 8847 1251 27442 1543 31...</td>\n      <td>15371 6498 31376 30024 24307 21492 10083 20072...</td>\n    </tr>\n    <tr>\n      <th>6</th>\n      <td>101310</td>\n      <td>8115</td>\n      <td>15</td>\n      <td>106872 36623 26564 8109 110838 148383 26564 33...</td>\n      <td>9837 110838 148383 26564 33895 110690 133005</td>\n      <td>117252 44854 26564 110142 93536 91254 8109 983...</td>\n      <td>19367.0</td>\n      <td>10532.0</td>\n      <td>NaN</td>\n      <td>18351;13433;25057;11002;14687;10664;19485;12865</td>\n      <td>9;6</td>\n      <td>237 0.90296459;246 0.90296459</td>\n      <td>20831 11704 11598 11354 5967 1882 1217 23805 1...</td>\n      <td>2200 1217 23805 10083 14040 5967 12194 13395 1...</td>\n      <td>26018 10155 5967 24513 20833 5311 32214 1882 2...</td>\n    </tr>\n    <tr>\n      <th>7</th>\n      <td>13769</td>\n      <td>11696</td>\n      <td>25</td>\n      <td>144240 54435 37630 117252 27736 40670 134820 1...</td>\n      <td>63733 106137 31785 73044 25794 65020 90843 107...</td>\n      <td>123075 11342 79301 23908 110100 112151 110677 ...</td>\n      <td>NaN</td>\n      <td>NaN</td>\n      <td>NaN</td>\n      <td>8800;11061;15752</td>\n      <td>9;6</td>\n      <td>17 0.74826479;37 0.74826479</td>\n      <td>12783 22473 5277 10040 12837 26018 6243 8311 3...</td>\n      <td>20857 15640 7261 23039 30060 32499 5009 8481 7...</td>\n      <td>30191 2606 17583 5391 20861 15640 12836 4895 1...</td>\n    </tr>\n    <tr>\n      <th>8</th>\n      <td>6311</td>\n      <td>9533</td>\n      <td>60</td>\n      <td>102036 39661 66989 110142 118715 93522 24335 8...</td>\n      <td>122344 140404 55785 26564 93563 102383 27736 7...</td>\n      <td>90843 31279 117347 116237 8109 287 49575 56976...</td>\n      <td>NaN</td>\n      <td>NaN</td>\n      <td>NaN</td>\n      <td>17892;18428</td>\n      <td>9;6</td>\n      <td>235 0.36773422;204 0.36773422</td>\n      <td>2682 32028 12649 7461 4913 29499 24513 24368 2...</td>\n      <td>12676 3901 31177 12653 5967 20857 3653 11877 6...</td>\n      <td>26018 2223 30031 2220 26054 18659 15360 1882 6...</td>\n    </tr>\n    <tr>\n      <th>9</th>\n      <td>6801</td>\n      <td>13501</td>\n      <td>14</td>\n      <td>45012 25146 45443 122452 875 80983 8109 25146 ...</td>\n      <td>20248 33368 37767 37767 82007 78435 69591 9354...</td>\n      <td>90290 77895 25146 106949 129539 106793 304 277...</td>\n      <td>NaN</td>\n      <td>NaN</td>\n      <td>15506;17582;10844</td>\n      <td>25209;219;4826;25500</td>\n      <td>81;269;159;6</td>\n      <td>269 0.96752864;81 0.96752864</td>\n      <td>10226 13505 15360 10326 17526 26208 253 12762 ...</td>\n      <td>27393 7536 7349 7349 17323 11893 20838 18755 3...</td>\n      <td>20085 17181 13505 15360 23786 14009 12831 2706...</td>\n    </tr>\n  </tbody>\n</table>\n</div>"
     },
     "metadata": {},
     "execution_count": 17
    }
   ],
   "source": [
    "feed.head(10)"
   ]
  },
  {
   "cell_type": "code",
   "execution_count": 18,
   "metadata": {},
   "outputs": [
    {
     "output_type": "execute_result",
     "data": {
      "text/plain": [
       "              feedid       authorid  videoplayseconds   bgm_song_id  \\\n",
       "count  106444.000000  106444.000000     106444.000000  53462.000000   \n",
       "mean    56443.543704    9488.196639         34.446545  12556.594946   \n",
       "std     32582.304899    5384.927792        277.086122   7319.430812   \n",
       "min         0.000000       0.000000          2.000000      0.000000   \n",
       "25%     28243.750000    4844.750000         14.000000   6137.000000   \n",
       "50%     56419.500000    9584.000000         26.000000  12518.500000   \n",
       "75%     84659.250000   14122.000000         54.000000  18965.750000   \n",
       "max    112871.000000   18788.000000      59960.000000  25158.000000   \n",
       "\n",
       "       bgm_singer_id  \n",
       "count   53462.000000  \n",
       "mean     8795.041338  \n",
       "std      5023.494371  \n",
       "min         0.000000  \n",
       "25%      4589.250000  \n",
       "50%      8614.000000  \n",
       "75%     13218.000000  \n",
       "max     17499.000000  "
      ],
      "text/html": "<div>\n<style scoped>\n    .dataframe tbody tr th:only-of-type {\n        vertical-align: middle;\n    }\n\n    .dataframe tbody tr th {\n        vertical-align: top;\n    }\n\n    .dataframe thead th {\n        text-align: right;\n    }\n</style>\n<table border=\"1\" class=\"dataframe\">\n  <thead>\n    <tr style=\"text-align: right;\">\n      <th></th>\n      <th>feedid</th>\n      <th>authorid</th>\n      <th>videoplayseconds</th>\n      <th>bgm_song_id</th>\n      <th>bgm_singer_id</th>\n    </tr>\n  </thead>\n  <tbody>\n    <tr>\n      <th>count</th>\n      <td>106444.000000</td>\n      <td>106444.000000</td>\n      <td>106444.000000</td>\n      <td>53462.000000</td>\n      <td>53462.000000</td>\n    </tr>\n    <tr>\n      <th>mean</th>\n      <td>56443.543704</td>\n      <td>9488.196639</td>\n      <td>34.446545</td>\n      <td>12556.594946</td>\n      <td>8795.041338</td>\n    </tr>\n    <tr>\n      <th>std</th>\n      <td>32582.304899</td>\n      <td>5384.927792</td>\n      <td>277.086122</td>\n      <td>7319.430812</td>\n      <td>5023.494371</td>\n    </tr>\n    <tr>\n      <th>min</th>\n      <td>0.000000</td>\n      <td>0.000000</td>\n      <td>2.000000</td>\n      <td>0.000000</td>\n      <td>0.000000</td>\n    </tr>\n    <tr>\n      <th>25%</th>\n      <td>28243.750000</td>\n      <td>4844.750000</td>\n      <td>14.000000</td>\n      <td>6137.000000</td>\n      <td>4589.250000</td>\n    </tr>\n    <tr>\n      <th>50%</th>\n      <td>56419.500000</td>\n      <td>9584.000000</td>\n      <td>26.000000</td>\n      <td>12518.500000</td>\n      <td>8614.000000</td>\n    </tr>\n    <tr>\n      <th>75%</th>\n      <td>84659.250000</td>\n      <td>14122.000000</td>\n      <td>54.000000</td>\n      <td>18965.750000</td>\n      <td>13218.000000</td>\n    </tr>\n    <tr>\n      <th>max</th>\n      <td>112871.000000</td>\n      <td>18788.000000</td>\n      <td>59960.000000</td>\n      <td>25158.000000</td>\n      <td>17499.000000</td>\n    </tr>\n  </tbody>\n</table>\n</div>"
     },
     "metadata": {},
     "execution_count": 18
    }
   ],
   "source": [
    "feed.describe()"
   ]
  },
  {
   "cell_type": "code",
   "execution_count": 4,
   "metadata": {},
   "outputs": [
    {
     "output_type": "execute_result",
     "data": {
      "text/plain": [
       "(106444, 15)"
      ]
     },
     "metadata": {},
     "execution_count": 4
    }
   ],
   "source": [
    "feed.shape"
   ]
  },
  {
   "cell_type": "code",
   "execution_count": 5,
   "metadata": {},
   "outputs": [
    {
     "output_type": "execute_result",
     "data": {
      "text/plain": [
       "feedid                  0.000000\n",
       "authorid                0.000000\n",
       "videoplayseconds        0.000000\n",
       "description             0.031547\n",
       "ocr                     0.278137\n",
       "asr                     0.257431\n",
       "bgm_song_id             0.497745\n",
       "bgm_singer_id           0.497745\n",
       "manual_keyword_list     0.330916\n",
       "machine_keyword_list    0.157426\n",
       "manual_tag_list         0.009545\n",
       "machine_tag_list        0.005017\n",
       "description_char        0.031350\n",
       "ocr_char                0.280673\n",
       "asr_char                0.257431\n",
       "dtype: float64"
      ]
     },
     "metadata": {},
     "execution_count": 5
    }
   ],
   "source": [
    "feed.isnull().sum() / feed.shape[0]"
   ]
  },
  {
   "source": [
    "# action表\n",
    "交互数据(用户行为)表, 包含用户在视频号内一段时间的历史行为数据"
   ],
   "cell_type": "markdown",
   "metadata": {}
  },
  {
   "cell_type": "code",
   "execution_count": 6,
   "metadata": {},
   "outputs": [
    {
     "output_type": "execute_result",
     "data": {
      "text/plain": [
       "   userid  feedid  date_  device  read_comment  comment  like  play  stay  \\\n",
       "0       8   71474      1       1             0        0     1   500  5366   \n",
       "1       8   73916      1       1             0        0     0   250  1533   \n",
       "2       8   50282      1       1             0        0     0   750  1302   \n",
       "3       8   11391      1       1             0        0     1  3750  5191   \n",
       "4       8   27349      1       1             0        0     0   250   800   \n",
       "5       8   30287      1       1             0        0     0     0  1496   \n",
       "6       8    1151      1       1             0        0     0   250   976   \n",
       "7       8   69745      1       1             0        0     0   250   817   \n",
       "8       8   22451      1       1             0        0     0     0  2014   \n",
       "9       8   97911      1       1             0        0     0   250   861   \n",
       "\n",
       "   click_avatar  forward  follow  favorite  \n",
       "0             0        0       0         0  \n",
       "1             0        0       0         0  \n",
       "2             0        0       0         0  \n",
       "3             0        0       0         0  \n",
       "4             0        0       0         0  \n",
       "5             0        0       0         0  \n",
       "6             0        0       0         0  \n",
       "7             0        0       0         0  \n",
       "8             0        0       0         0  \n",
       "9             0        0       0         0  "
      ],
      "text/html": "<div>\n<style scoped>\n    .dataframe tbody tr th:only-of-type {\n        vertical-align: middle;\n    }\n\n    .dataframe tbody tr th {\n        vertical-align: top;\n    }\n\n    .dataframe thead th {\n        text-align: right;\n    }\n</style>\n<table border=\"1\" class=\"dataframe\">\n  <thead>\n    <tr style=\"text-align: right;\">\n      <th></th>\n      <th>userid</th>\n      <th>feedid</th>\n      <th>date_</th>\n      <th>device</th>\n      <th>read_comment</th>\n      <th>comment</th>\n      <th>like</th>\n      <th>play</th>\n      <th>stay</th>\n      <th>click_avatar</th>\n      <th>forward</th>\n      <th>follow</th>\n      <th>favorite</th>\n    </tr>\n  </thead>\n  <tbody>\n    <tr>\n      <th>0</th>\n      <td>8</td>\n      <td>71474</td>\n      <td>1</td>\n      <td>1</td>\n      <td>0</td>\n      <td>0</td>\n      <td>1</td>\n      <td>500</td>\n      <td>5366</td>\n      <td>0</td>\n      <td>0</td>\n      <td>0</td>\n      <td>0</td>\n    </tr>\n    <tr>\n      <th>1</th>\n      <td>8</td>\n      <td>73916</td>\n      <td>1</td>\n      <td>1</td>\n      <td>0</td>\n      <td>0</td>\n      <td>0</td>\n      <td>250</td>\n      <td>1533</td>\n      <td>0</td>\n      <td>0</td>\n      <td>0</td>\n      <td>0</td>\n    </tr>\n    <tr>\n      <th>2</th>\n      <td>8</td>\n      <td>50282</td>\n      <td>1</td>\n      <td>1</td>\n      <td>0</td>\n      <td>0</td>\n      <td>0</td>\n      <td>750</td>\n      <td>1302</td>\n      <td>0</td>\n      <td>0</td>\n      <td>0</td>\n      <td>0</td>\n    </tr>\n    <tr>\n      <th>3</th>\n      <td>8</td>\n      <td>11391</td>\n      <td>1</td>\n      <td>1</td>\n      <td>0</td>\n      <td>0</td>\n      <td>1</td>\n      <td>3750</td>\n      <td>5191</td>\n      <td>0</td>\n      <td>0</td>\n      <td>0</td>\n      <td>0</td>\n    </tr>\n    <tr>\n      <th>4</th>\n      <td>8</td>\n      <td>27349</td>\n      <td>1</td>\n      <td>1</td>\n      <td>0</td>\n      <td>0</td>\n      <td>0</td>\n      <td>250</td>\n      <td>800</td>\n      <td>0</td>\n      <td>0</td>\n      <td>0</td>\n      <td>0</td>\n    </tr>\n    <tr>\n      <th>5</th>\n      <td>8</td>\n      <td>30287</td>\n      <td>1</td>\n      <td>1</td>\n      <td>0</td>\n      <td>0</td>\n      <td>0</td>\n      <td>0</td>\n      <td>1496</td>\n      <td>0</td>\n      <td>0</td>\n      <td>0</td>\n      <td>0</td>\n    </tr>\n    <tr>\n      <th>6</th>\n      <td>8</td>\n      <td>1151</td>\n      <td>1</td>\n      <td>1</td>\n      <td>0</td>\n      <td>0</td>\n      <td>0</td>\n      <td>250</td>\n      <td>976</td>\n      <td>0</td>\n      <td>0</td>\n      <td>0</td>\n      <td>0</td>\n    </tr>\n    <tr>\n      <th>7</th>\n      <td>8</td>\n      <td>69745</td>\n      <td>1</td>\n      <td>1</td>\n      <td>0</td>\n      <td>0</td>\n      <td>0</td>\n      <td>250</td>\n      <td>817</td>\n      <td>0</td>\n      <td>0</td>\n      <td>0</td>\n      <td>0</td>\n    </tr>\n    <tr>\n      <th>8</th>\n      <td>8</td>\n      <td>22451</td>\n      <td>1</td>\n      <td>1</td>\n      <td>0</td>\n      <td>0</td>\n      <td>0</td>\n      <td>0</td>\n      <td>2014</td>\n      <td>0</td>\n      <td>0</td>\n      <td>0</td>\n      <td>0</td>\n    </tr>\n    <tr>\n      <th>9</th>\n      <td>8</td>\n      <td>97911</td>\n      <td>1</td>\n      <td>1</td>\n      <td>0</td>\n      <td>0</td>\n      <td>0</td>\n      <td>250</td>\n      <td>861</td>\n      <td>0</td>\n      <td>0</td>\n      <td>0</td>\n      <td>0</td>\n    </tr>\n  </tbody>\n</table>\n</div>"
     },
     "metadata": {},
     "execution_count": 6
    }
   ],
   "source": [
    "action.head(10)"
   ]
  },
  {
   "cell_type": "code",
   "execution_count": 7,
   "metadata": {},
   "outputs": [
    {
     "output_type": "execute_result",
     "data": {
      "text/plain": [
       "(7317882, 13)"
      ]
     },
     "metadata": {},
     "execution_count": 7
    }
   ],
   "source": [
    "action.shape"
   ]
  },
  {
   "cell_type": "code",
   "execution_count": 8,
   "metadata": {},
   "outputs": [
    {
     "output_type": "execute_result",
     "data": {
      "text/plain": [
       "userid          0.0\n",
       "feedid          0.0\n",
       "date_           0.0\n",
       "device          0.0\n",
       "read_comment    0.0\n",
       "comment         0.0\n",
       "like            0.0\n",
       "play            0.0\n",
       "stay            0.0\n",
       "click_avatar    0.0\n",
       "forward         0.0\n",
       "follow          0.0\n",
       "favorite        0.0\n",
       "dtype: float64"
      ]
     },
     "metadata": {},
     "execution_count": 8
    }
   ],
   "source": [
    "action.isnull().sum() / action.shape[0]"
   ]
  },
  {
   "cell_type": "code",
   "execution_count": 9,
   "metadata": {},
   "outputs": [
    {
     "output_type": "execute_result",
     "data": {
      "text/plain": [
       "11    614175\n",
       "14    609036\n",
       "10    596886\n",
       "13    566627\n",
       "3     543566\n",
       "12    532038\n",
       "9     512466\n",
       "4     504623\n",
       "8     500120\n",
       "7     480460\n",
       "1     478489\n",
       "6     472726\n",
       "2     461842\n",
       "5     444828\n",
       "Name: date_, dtype: int64"
      ]
     },
     "metadata": {},
     "execution_count": 9
    }
   ],
   "source": [
    "action['date_'].value_counts()"
   ]
  },
  {
   "cell_type": "code",
   "execution_count": 10,
   "metadata": {},
   "outputs": [
    {
     "output_type": "execute_result",
     "data": {
      "text/plain": [
       "             userid        feedid         date_        device  read_comment  \\\n",
       "count  7.317882e+06  7.317882e+06  7.317882e+06  7.317882e+06  7.317882e+06   \n",
       "mean   1.249679e+05  5.669863e+04  7.801455e+00  1.765396e+00  3.501587e-02   \n",
       "std    7.239444e+04  3.278194e+04  4.063833e+00  4.237514e-01  1.838199e-01   \n",
       "min    8.000000e+00  0.000000e+00  1.000000e+00  1.000000e+00  0.000000e+00   \n",
       "25%    6.133000e+04  2.814900e+04  4.000000e+00  2.000000e+00  0.000000e+00   \n",
       "50%    1.256370e+05  5.682500e+04  8.000000e+00  2.000000e+00  0.000000e+00   \n",
       "75%    1.878630e+05  8.522900e+04  1.100000e+01  2.000000e+00  0.000000e+00   \n",
       "max    2.502360e+05  1.128710e+05  1.400000e+01  2.000000e+00  1.000000e+00   \n",
       "\n",
       "            comment          like          play          stay  click_avatar  \\\n",
       "count  7.317882e+06  7.317882e+06  7.317882e+06  7.317882e+06  7.317882e+06   \n",
       "mean   4.046253e-04  2.580487e-02  2.631760e+04  3.101158e+04  7.533327e-03   \n",
       "std    2.011123e-02  1.585528e-01  6.477679e+04  1.013239e+05  8.646720e-02   \n",
       "min    0.000000e+00  0.000000e+00  0.000000e+00  0.000000e+00  0.000000e+00   \n",
       "25%    0.000000e+00  0.000000e+00  2.017000e+03  5.189000e+03  0.000000e+00   \n",
       "50%    0.000000e+00  0.000000e+00  1.328900e+04  1.782900e+04  0.000000e+00   \n",
       "75%    0.000000e+00  0.000000e+00  3.600000e+04  4.133900e+04  0.000000e+00   \n",
       "max    1.000000e+00  1.000000e+00  3.855337e+07  8.262444e+07  1.000000e+00   \n",
       "\n",
       "            forward        follow      favorite  \n",
       "count  7.317882e+06  7.317882e+06  7.317882e+06  \n",
       "mean   3.821188e-03  7.211103e-04  1.342465e-03  \n",
       "std    6.169754e-02  2.684381e-02  3.661506e-02  \n",
       "min    0.000000e+00  0.000000e+00  0.000000e+00  \n",
       "25%    0.000000e+00  0.000000e+00  0.000000e+00  \n",
       "50%    0.000000e+00  0.000000e+00  0.000000e+00  \n",
       "75%    0.000000e+00  0.000000e+00  0.000000e+00  \n",
       "max    1.000000e+00  1.000000e+00  1.000000e+00  "
      ],
      "text/html": "<div>\n<style scoped>\n    .dataframe tbody tr th:only-of-type {\n        vertical-align: middle;\n    }\n\n    .dataframe tbody tr th {\n        vertical-align: top;\n    }\n\n    .dataframe thead th {\n        text-align: right;\n    }\n</style>\n<table border=\"1\" class=\"dataframe\">\n  <thead>\n    <tr style=\"text-align: right;\">\n      <th></th>\n      <th>userid</th>\n      <th>feedid</th>\n      <th>date_</th>\n      <th>device</th>\n      <th>read_comment</th>\n      <th>comment</th>\n      <th>like</th>\n      <th>play</th>\n      <th>stay</th>\n      <th>click_avatar</th>\n      <th>forward</th>\n      <th>follow</th>\n      <th>favorite</th>\n    </tr>\n  </thead>\n  <tbody>\n    <tr>\n      <th>count</th>\n      <td>7.317882e+06</td>\n      <td>7.317882e+06</td>\n      <td>7.317882e+06</td>\n      <td>7.317882e+06</td>\n      <td>7.317882e+06</td>\n      <td>7.317882e+06</td>\n      <td>7.317882e+06</td>\n      <td>7.317882e+06</td>\n      <td>7.317882e+06</td>\n      <td>7.317882e+06</td>\n      <td>7.317882e+06</td>\n      <td>7.317882e+06</td>\n      <td>7.317882e+06</td>\n    </tr>\n    <tr>\n      <th>mean</th>\n      <td>1.249679e+05</td>\n      <td>5.669863e+04</td>\n      <td>7.801455e+00</td>\n      <td>1.765396e+00</td>\n      <td>3.501587e-02</td>\n      <td>4.046253e-04</td>\n      <td>2.580487e-02</td>\n      <td>2.631760e+04</td>\n      <td>3.101158e+04</td>\n      <td>7.533327e-03</td>\n      <td>3.821188e-03</td>\n      <td>7.211103e-04</td>\n      <td>1.342465e-03</td>\n    </tr>\n    <tr>\n      <th>std</th>\n      <td>7.239444e+04</td>\n      <td>3.278194e+04</td>\n      <td>4.063833e+00</td>\n      <td>4.237514e-01</td>\n      <td>1.838199e-01</td>\n      <td>2.011123e-02</td>\n      <td>1.585528e-01</td>\n      <td>6.477679e+04</td>\n      <td>1.013239e+05</td>\n      <td>8.646720e-02</td>\n      <td>6.169754e-02</td>\n      <td>2.684381e-02</td>\n      <td>3.661506e-02</td>\n    </tr>\n    <tr>\n      <th>min</th>\n      <td>8.000000e+00</td>\n      <td>0.000000e+00</td>\n      <td>1.000000e+00</td>\n      <td>1.000000e+00</td>\n      <td>0.000000e+00</td>\n      <td>0.000000e+00</td>\n      <td>0.000000e+00</td>\n      <td>0.000000e+00</td>\n      <td>0.000000e+00</td>\n      <td>0.000000e+00</td>\n      <td>0.000000e+00</td>\n      <td>0.000000e+00</td>\n      <td>0.000000e+00</td>\n    </tr>\n    <tr>\n      <th>25%</th>\n      <td>6.133000e+04</td>\n      <td>2.814900e+04</td>\n      <td>4.000000e+00</td>\n      <td>2.000000e+00</td>\n      <td>0.000000e+00</td>\n      <td>0.000000e+00</td>\n      <td>0.000000e+00</td>\n      <td>2.017000e+03</td>\n      <td>5.189000e+03</td>\n      <td>0.000000e+00</td>\n      <td>0.000000e+00</td>\n      <td>0.000000e+00</td>\n      <td>0.000000e+00</td>\n    </tr>\n    <tr>\n      <th>50%</th>\n      <td>1.256370e+05</td>\n      <td>5.682500e+04</td>\n      <td>8.000000e+00</td>\n      <td>2.000000e+00</td>\n      <td>0.000000e+00</td>\n      <td>0.000000e+00</td>\n      <td>0.000000e+00</td>\n      <td>1.328900e+04</td>\n      <td>1.782900e+04</td>\n      <td>0.000000e+00</td>\n      <td>0.000000e+00</td>\n      <td>0.000000e+00</td>\n      <td>0.000000e+00</td>\n    </tr>\n    <tr>\n      <th>75%</th>\n      <td>1.878630e+05</td>\n      <td>8.522900e+04</td>\n      <td>1.100000e+01</td>\n      <td>2.000000e+00</td>\n      <td>0.000000e+00</td>\n      <td>0.000000e+00</td>\n      <td>0.000000e+00</td>\n      <td>3.600000e+04</td>\n      <td>4.133900e+04</td>\n      <td>0.000000e+00</td>\n      <td>0.000000e+00</td>\n      <td>0.000000e+00</td>\n      <td>0.000000e+00</td>\n    </tr>\n    <tr>\n      <th>max</th>\n      <td>2.502360e+05</td>\n      <td>1.128710e+05</td>\n      <td>1.400000e+01</td>\n      <td>2.000000e+00</td>\n      <td>1.000000e+00</td>\n      <td>1.000000e+00</td>\n      <td>1.000000e+00</td>\n      <td>3.855337e+07</td>\n      <td>8.262444e+07</td>\n      <td>1.000000e+00</td>\n      <td>1.000000e+00</td>\n      <td>1.000000e+00</td>\n      <td>1.000000e+00</td>\n    </tr>\n  </tbody>\n</table>\n</div>"
     },
     "metadata": {},
     "execution_count": 10
    }
   ],
   "source": [
    "action.describe()"
   ]
  },
  {
   "cell_type": "code",
   "execution_count": 14,
   "metadata": {},
   "outputs": [
    {
     "output_type": "stream",
     "name": "stdout",
     "text": [
      "read_comment\nThe number of read_comment is 256242, the ratio is 0.03502\nlike\nThe number of like is 188837, the ratio is 0.02580\nclick_avatar\nThe number of click_avatar is 55128, the ratio is 0.00753\nforward\nThe number of forward is 27963, the ratio is 0.00382\nfavorite\nThe number of favorite is 9824, the ratio is 0.00134\ncomment\nThe number of comment is 2961, the ratio is 0.00040\nfollow\nThe number of follow is 5277, the ratio is 0.00072\n"
     ]
    }
   ],
   "source": [
    "target_feat = ['read_comment', 'like', 'click_avatar', 'forward', 'favorite', 'comment', 'follow']\n",
    "for feat in target_feat:\n",
    "    print(feat)\n",
    "    count = action[feat].sum()\n",
    "    print(\"The number of %s is %d, the ratio is %.5f\" % (feat, count, count/action.shape[0]))"
   ]
  },
  {
   "source": [
    "# 测试集"
   ],
   "cell_type": "markdown",
   "metadata": {}
  },
  {
   "cell_type": "code",
   "execution_count": 9,
   "metadata": {},
   "outputs": [
    {
     "output_type": "execute_result",
     "data": {
      "text/plain": [
       "   userid  feedid  device\n",
       "0   14298   67227       1\n",
       "1   68356   91864       2\n",
       "2   49925  104657       2\n",
       "3   60529   23738       2\n",
       "4  131482   69038       1\n",
       "5   52981   33636       1\n",
       "6   55058   22853       2\n",
       "7   78168  100222       1\n",
       "8  135784   78982       2\n",
       "9   72975   81367       2"
      ],
      "text/html": "<div>\n<style scoped>\n    .dataframe tbody tr th:only-of-type {\n        vertical-align: middle;\n    }\n\n    .dataframe tbody tr th {\n        vertical-align: top;\n    }\n\n    .dataframe thead th {\n        text-align: right;\n    }\n</style>\n<table border=\"1\" class=\"dataframe\">\n  <thead>\n    <tr style=\"text-align: right;\">\n      <th></th>\n      <th>userid</th>\n      <th>feedid</th>\n      <th>device</th>\n    </tr>\n  </thead>\n  <tbody>\n    <tr>\n      <th>0</th>\n      <td>14298</td>\n      <td>67227</td>\n      <td>1</td>\n    </tr>\n    <tr>\n      <th>1</th>\n      <td>68356</td>\n      <td>91864</td>\n      <td>2</td>\n    </tr>\n    <tr>\n      <th>2</th>\n      <td>49925</td>\n      <td>104657</td>\n      <td>2</td>\n    </tr>\n    <tr>\n      <th>3</th>\n      <td>60529</td>\n      <td>23738</td>\n      <td>2</td>\n    </tr>\n    <tr>\n      <th>4</th>\n      <td>131482</td>\n      <td>69038</td>\n      <td>1</td>\n    </tr>\n    <tr>\n      <th>5</th>\n      <td>52981</td>\n      <td>33636</td>\n      <td>1</td>\n    </tr>\n    <tr>\n      <th>6</th>\n      <td>55058</td>\n      <td>22853</td>\n      <td>2</td>\n    </tr>\n    <tr>\n      <th>7</th>\n      <td>78168</td>\n      <td>100222</td>\n      <td>1</td>\n    </tr>\n    <tr>\n      <th>8</th>\n      <td>135784</td>\n      <td>78982</td>\n      <td>2</td>\n    </tr>\n    <tr>\n      <th>9</th>\n      <td>72975</td>\n      <td>81367</td>\n      <td>2</td>\n    </tr>\n  </tbody>\n</table>\n</div>"
     },
     "metadata": {},
     "execution_count": 9
    }
   ],
   "source": [
    "test.head(10)"
   ]
  },
  {
   "cell_type": "code",
   "execution_count": 10,
   "metadata": {},
   "outputs": [
    {
     "output_type": "execute_result",
     "data": {
      "text/plain": [
       "(421985, 3)"
      ]
     },
     "metadata": {},
     "execution_count": 10
    }
   ],
   "source": [
    "test.shape"
   ]
  },
  {
   "source": [
    "## feed_embedding表\n",
    "融合了ocr、asr、图像、文字的多模态的内容理解特征向量"
   ],
   "cell_type": "markdown",
   "metadata": {}
  },
  {
   "cell_type": "code",
   "execution_count": 11,
   "metadata": {},
   "outputs": [
    {
     "output_type": "execute_result",
     "data": {
      "text/plain": [
       "   feedid                                     feed_embedding\n",
       "0   46022  -0.02032269 0.06095614 0.11057708 0.03385210 0...\n",
       "1   73903  -0.07594238 0.01796364 -0.00135112 -0.00333468...\n",
       "2   88646  -0.05067272 -0.08208735 -0.01929738 -0.0150182...\n",
       "3   24381  -0.06976026 0.00218324 0.04416835 0.06146711 -...\n",
       "4   41542  -0.04981736 -0.03523079 0.03022859 0.06672543 ...\n",
       "5   15622  -0.10077595 -0.01764622 0.03897166 -0.04593844...\n",
       "6    5662  -0.07481042 -0.07795808 0.00200225 -0.02691050...\n",
       "7    4282  -0.00903127 0.04316609 0.06915708 0.00960549 0...\n",
       "8   26337  -0.04625623 -0.01046129 0.08407867 -0.00102488...\n",
       "9   64025  -0.03590044 0.01959696 0.01913530 0.03326439 0..."
      ],
      "text/html": "<div>\n<style scoped>\n    .dataframe tbody tr th:only-of-type {\n        vertical-align: middle;\n    }\n\n    .dataframe tbody tr th {\n        vertical-align: top;\n    }\n\n    .dataframe thead th {\n        text-align: right;\n    }\n</style>\n<table border=\"1\" class=\"dataframe\">\n  <thead>\n    <tr style=\"text-align: right;\">\n      <th></th>\n      <th>feedid</th>\n      <th>feed_embedding</th>\n    </tr>\n  </thead>\n  <tbody>\n    <tr>\n      <th>0</th>\n      <td>46022</td>\n      <td>-0.02032269 0.06095614 0.11057708 0.03385210 0...</td>\n    </tr>\n    <tr>\n      <th>1</th>\n      <td>73903</td>\n      <td>-0.07594238 0.01796364 -0.00135112 -0.00333468...</td>\n    </tr>\n    <tr>\n      <th>2</th>\n      <td>88646</td>\n      <td>-0.05067272 -0.08208735 -0.01929738 -0.0150182...</td>\n    </tr>\n    <tr>\n      <th>3</th>\n      <td>24381</td>\n      <td>-0.06976026 0.00218324 0.04416835 0.06146711 -...</td>\n    </tr>\n    <tr>\n      <th>4</th>\n      <td>41542</td>\n      <td>-0.04981736 -0.03523079 0.03022859 0.06672543 ...</td>\n    </tr>\n    <tr>\n      <th>5</th>\n      <td>15622</td>\n      <td>-0.10077595 -0.01764622 0.03897166 -0.04593844...</td>\n    </tr>\n    <tr>\n      <th>6</th>\n      <td>5662</td>\n      <td>-0.07481042 -0.07795808 0.00200225 -0.02691050...</td>\n    </tr>\n    <tr>\n      <th>7</th>\n      <td>4282</td>\n      <td>-0.00903127 0.04316609 0.06915708 0.00960549 0...</td>\n    </tr>\n    <tr>\n      <th>8</th>\n      <td>26337</td>\n      <td>-0.04625623 -0.01046129 0.08407867 -0.00102488...</td>\n    </tr>\n    <tr>\n      <th>9</th>\n      <td>64025</td>\n      <td>-0.03590044 0.01959696 0.01913530 0.03326439 0...</td>\n    </tr>\n  </tbody>\n</table>\n</div>"
     },
     "metadata": {},
     "execution_count": 11
    }
   ],
   "source": [
    "feed_em.head(10)"
   ]
  },
  {
   "source": [
    "## 检查有多少冷启动用户和样本, 来判断是否可以使用协同过滤类算法"
   ],
   "cell_type": "markdown",
   "metadata": {}
  },
  {
   "cell_type": "code",
   "execution_count": 15,
   "metadata": {},
   "outputs": [],
   "source": [
    "train_user_set = set(action['userid'])\n",
    "train_item_set = set(action['feedid'])\n",
    "test_user_set = set(test['userid'])\n",
    "test_item_set = set(test['feedid'])"
   ]
  },
  {
   "cell_type": "code",
   "execution_count": 16,
   "metadata": {},
   "outputs": [
    {
     "output_type": "execute_result",
     "data": {
      "text/plain": [
       "(0.0, 0.07415308473419234)"
      ]
     },
     "metadata": {},
     "execution_count": 16
    }
   ],
   "source": [
    "len(test_user_set - train_user_set) / len(test_user_set), len(test_item_set - train_item_set) / len(test_item_set)"
   ]
  },
  {
   "source": [
    "用户中没有冷启动用户, 但物品中有约7.4%的冷启动物品"
   ],
   "cell_type": "markdown",
   "metadata": {}
  },
  {
   "cell_type": "code",
   "execution_count": 17,
   "metadata": {},
   "outputs": [
    {
     "output_type": "execute_result",
     "data": {
      "text/plain": [
       "(35157, 96564, 106444)"
      ]
     },
     "metadata": {},
     "execution_count": 17
    }
   ],
   "source": [
    "test['feedid'].nunique(), action['feedid'].nunique(), feed['feedid'].nunique()"
   ]
  },
  {
   "cell_type": "code",
   "execution_count": 18,
   "metadata": {},
   "outputs": [
    {
     "output_type": "execute_result",
     "data": {
      "text/plain": [
       "2607"
      ]
     },
     "metadata": {},
     "execution_count": 18
    }
   ],
   "source": [
    "len(test_item_set - train_item_set)"
   ]
  },
  {
   "cell_type": "code",
   "execution_count": null,
   "metadata": {},
   "outputs": [],
   "source": []
  }
 ]
}